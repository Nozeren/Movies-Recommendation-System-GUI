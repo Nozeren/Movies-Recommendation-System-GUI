{
  "nbformat": 4,
  "nbformat_minor": 0,
  "metadata": {
    "colab": {
      "name": "Project 3 - GRA, MJ, NR, UG.ipynb",
      "provenance": [],
      "collapsed_sections": [
        "A7VA4N8ATG9g",
        "U2uodl761JU5",
        "oGwS9pbg0vB6",
        "BuRLQTIC1-Rz",
        "hzfzbl1WAES0",
        "zvxiOTOaSrHk",
        "RcvxaM1kSnmQ",
        "w9HlCVbuAvfJ",
        "wYkNVmds5AHz",
        "myaePeJk6qs3",
        "d1KACk345uOV",
        "VVVGcESi5yTR",
        "HBmP0oZM5L6t",
        "RTkrH1Fz8gxf",
        "3z8vZEhYpJfQ",
        "cgR6q4U2fwhI"
      ]
    },
    "kernelspec": {
      "name": "python3",
      "display_name": "Python 3"
    }
  },
  "cells": [
    {
      "cell_type": "markdown",
      "metadata": {
        "id": "A7VA4N8ATG9g"
      },
      "source": [
        "# Importing the datasets\n",
        "\n"
      ]
    },
    {
      "cell_type": "code",
      "metadata": {
        "id": "UzaHku_9LiMv",
        "colab": {
          "base_uri": "https://localhost:8080/",
          "height": 71
        },
        "outputId": "632a4e8e-073d-4687-c380-6f1332f9184f"
      },
      "source": [
        "import pandas as pd\n",
        "import matplotlib.pyplot as plt\n",
        "from matplotlib.ticker import FuncFormatter\n",
        "import numpy as np\n",
        "import seaborn as sns"
      ],
      "execution_count": null,
      "outputs": [
        {
          "output_type": "stream",
          "text": [
            "/usr/local/lib/python3.6/dist-packages/statsmodels/tools/_testing.py:19: FutureWarning: pandas.util.testing is deprecated. Use the functions in the public API at pandas.testing instead.\n",
            "  import pandas.util.testing as tm\n"
          ],
          "name": "stderr"
        }
      ]
    },
    {
      "cell_type": "code",
      "metadata": {
        "id": "UKzrLHymQdWJ"
      },
      "source": [
        "!pip install -U -q PyDrive\n",
        "from pydrive.auth import GoogleAuth\n",
        "from pydrive.drive import GoogleDrive\n",
        "from google.colab import auth\n",
        "from oauth2client.client import GoogleCredentials\n",
        "auth.authenticate_user()\n",
        "gauth = GoogleAuth()\n",
        "gauth.credentials = GoogleCredentials.get_application_default()\n",
        "drive = GoogleDrive(gauth)"
      ],
      "execution_count": null,
      "outputs": []
    },
    {
      "cell_type": "code",
      "metadata": {
        "id": "e5uCoYZTQeuB"
      },
      "source": [
        "# importing links database\n",
        "\n",
        "# downloaded = drive.CreateFile({'id':'1hPicFMLvH7XRMNICr9oz8DYKjgFsKAUq'}) # replace the id with id of file you want to access\n",
        "# downloaded.GetContentFile('links.csv')\n",
        "# links = pd.read_csv('links.csv', sep=',')"
      ],
      "execution_count": null,
      "outputs": []
    },
    {
      "cell_type": "code",
      "metadata": {
        "id": "ENY59T04Pcs-"
      },
      "source": [
        "# links.head()"
      ],
      "execution_count": null,
      "outputs": []
    },
    {
      "cell_type": "code",
      "metadata": {
        "id": "fr2sHZJHRTnR"
      },
      "source": [
        "# importing movies database\n",
        "\n",
        "downloaded = drive.CreateFile({'id':'1_N6stt1n7HMzbbWtdBE8DlP_5UAie33C'}) # replace the id with id of file you want to access\n",
        "downloaded.GetContentFile('movies.csv')\n",
        "movies = pd.read_csv('movies.csv', sep=',')"
      ],
      "execution_count": null,
      "outputs": []
    },
    {
      "cell_type": "code",
      "metadata": {
        "id": "A1EJPDniPiKt",
        "colab": {
          "base_uri": "https://localhost:8080/",
          "height": 80
        },
        "outputId": "fad46bb7-2b69-48af-c69c-ab6ee996ffb4"
      },
      "source": [
        "movies.loc[movies['title'].str.contains('Pulp')] # experimenting "
      ],
      "execution_count": null,
      "outputs": [
        {
          "output_type": "execute_result",
          "data": {
            "text/html": [
              "<div>\n",
              "<style scoped>\n",
              "    .dataframe tbody tr th:only-of-type {\n",
              "        vertical-align: middle;\n",
              "    }\n",
              "\n",
              "    .dataframe tbody tr th {\n",
              "        vertical-align: top;\n",
              "    }\n",
              "\n",
              "    .dataframe thead th {\n",
              "        text-align: right;\n",
              "    }\n",
              "</style>\n",
              "<table border=\"1\" class=\"dataframe\">\n",
              "  <thead>\n",
              "    <tr style=\"text-align: right;\">\n",
              "      <th></th>\n",
              "      <th>movieId</th>\n",
              "      <th>title</th>\n",
              "      <th>genres</th>\n",
              "    </tr>\n",
              "  </thead>\n",
              "  <tbody>\n",
              "    <tr>\n",
              "      <th>257</th>\n",
              "      <td>296</td>\n",
              "      <td>Pulp Fiction (1994)</td>\n",
              "      <td>Comedy|Crime|Drama|Thriller</td>\n",
              "    </tr>\n",
              "  </tbody>\n",
              "</table>\n",
              "</div>"
            ],
            "text/plain": [
              "     movieId                title                       genres\n",
              "257      296  Pulp Fiction (1994)  Comedy|Crime|Drama|Thriller"
            ]
          },
          "metadata": {
            "tags": []
          },
          "execution_count": 6
        }
      ]
    },
    {
      "cell_type": "code",
      "metadata": {
        "id": "EMe5I58W6xmz"
      },
      "source": [
        "#movies['year'] = movies['title'].apply(lambda x: x[-5:-1]) #getting the movies' year of release\n",
        "#movies['title'] = movies['title'].apply(lambda x: x[:-7]) # taking out the year of the movie title"
      ],
      "execution_count": null,
      "outputs": []
    },
    {
      "cell_type": "code",
      "metadata": {
        "id": "pXYENE3GYtxV"
      },
      "source": [
        "\n",
        "#df['Year'] = df['title'].str.extract(r\"\\(([A-Za-z]+)\\)\", expand=False)\n",
        "\n",
        "#everything inside parenthesis (year) goes to a new column 'year'\n",
        "# movies['year'] = movies['title'].str.extract(r\"\\((.*?)\\)\", expand=False) \n",
        "\n",
        "# take out the year in parenthesis off of the title\n",
        "# movies['title'] = movies['title'].str.replace(r\"\\(.*\\)\",\"\") \n",
        "\n"
      ],
      "execution_count": null,
      "outputs": []
    },
    {
      "cell_type": "code",
      "metadata": {
        "id": "7ldJBw4BZBVe",
        "colab": {
          "base_uri": "https://localhost:8080/",
          "height": 204
        },
        "outputId": "e8381804-aea5-47aa-89d9-4863d71a638a"
      },
      "source": [
        "movies.head()"
      ],
      "execution_count": null,
      "outputs": [
        {
          "output_type": "execute_result",
          "data": {
            "text/html": [
              "<div>\n",
              "<style scoped>\n",
              "    .dataframe tbody tr th:only-of-type {\n",
              "        vertical-align: middle;\n",
              "    }\n",
              "\n",
              "    .dataframe tbody tr th {\n",
              "        vertical-align: top;\n",
              "    }\n",
              "\n",
              "    .dataframe thead th {\n",
              "        text-align: right;\n",
              "    }\n",
              "</style>\n",
              "<table border=\"1\" class=\"dataframe\">\n",
              "  <thead>\n",
              "    <tr style=\"text-align: right;\">\n",
              "      <th></th>\n",
              "      <th>movieId</th>\n",
              "      <th>title</th>\n",
              "      <th>genres</th>\n",
              "    </tr>\n",
              "  </thead>\n",
              "  <tbody>\n",
              "    <tr>\n",
              "      <th>0</th>\n",
              "      <td>1</td>\n",
              "      <td>Toy Story (1995)</td>\n",
              "      <td>Adventure|Animation|Children|Comedy|Fantasy</td>\n",
              "    </tr>\n",
              "    <tr>\n",
              "      <th>1</th>\n",
              "      <td>2</td>\n",
              "      <td>Jumanji (1995)</td>\n",
              "      <td>Adventure|Children|Fantasy</td>\n",
              "    </tr>\n",
              "    <tr>\n",
              "      <th>2</th>\n",
              "      <td>3</td>\n",
              "      <td>Grumpier Old Men (1995)</td>\n",
              "      <td>Comedy|Romance</td>\n",
              "    </tr>\n",
              "    <tr>\n",
              "      <th>3</th>\n",
              "      <td>4</td>\n",
              "      <td>Waiting to Exhale (1995)</td>\n",
              "      <td>Comedy|Drama|Romance</td>\n",
              "    </tr>\n",
              "    <tr>\n",
              "      <th>4</th>\n",
              "      <td>5</td>\n",
              "      <td>Father of the Bride Part II (1995)</td>\n",
              "      <td>Comedy</td>\n",
              "    </tr>\n",
              "  </tbody>\n",
              "</table>\n",
              "</div>"
            ],
            "text/plain": [
              "   movieId  ...                                       genres\n",
              "0        1  ...  Adventure|Animation|Children|Comedy|Fantasy\n",
              "1        2  ...                   Adventure|Children|Fantasy\n",
              "2        3  ...                               Comedy|Romance\n",
              "3        4  ...                         Comedy|Drama|Romance\n",
              "4        5  ...                                       Comedy\n",
              "\n",
              "[5 rows x 3 columns]"
            ]
          },
          "metadata": {
            "tags": []
          },
          "execution_count": 9
        }
      ]
    },
    {
      "cell_type": "code",
      "metadata": {
        "id": "b59MyvuAdt0w"
      },
      "source": [
        "#from google.colab import drive\n",
        "#drive.mount('drive')"
      ],
      "execution_count": null,
      "outputs": []
    },
    {
      "cell_type": "code",
      "metadata": {
        "id": "wg0LbOcjdxHz"
      },
      "source": [
        "#movies.to_csv('movies.csv')\n",
        "#!cp data.csv \"drive/My Drive/\""
      ],
      "execution_count": null,
      "outputs": []
    },
    {
      "cell_type": "code",
      "metadata": {
        "id": "bpQdmuiaRk9Q"
      },
      "source": [
        "# importing ratings database\n",
        "downloaded = drive.CreateFile({'id':'1YjVOY4TIf3tvhIGo8LswRV-fN0OROzU1'}) # replace the id with id of file you want to access\n",
        "downloaded.GetContentFile('ratings.csv')\n",
        "ratings = pd.read_csv('ratings.csv', sep=',')"
      ],
      "execution_count": null,
      "outputs": []
    },
    {
      "cell_type": "code",
      "metadata": {
        "id": "dttIlS-kPoLd",
        "colab": {
          "base_uri": "https://localhost:8080/"
        },
        "outputId": "cf4f87b1-9c67-4669-a293-594127d9ea28"
      },
      "source": [
        "ratings.tail()"
      ],
      "execution_count": null,
      "outputs": [
        {
          "output_type": "execute_result",
          "data": {
            "text/html": [
              "<div>\n",
              "<style scoped>\n",
              "    .dataframe tbody tr th:only-of-type {\n",
              "        vertical-align: middle;\n",
              "    }\n",
              "\n",
              "    .dataframe tbody tr th {\n",
              "        vertical-align: top;\n",
              "    }\n",
              "\n",
              "    .dataframe thead th {\n",
              "        text-align: right;\n",
              "    }\n",
              "</style>\n",
              "<table border=\"1\" class=\"dataframe\">\n",
              "  <thead>\n",
              "    <tr style=\"text-align: right;\">\n",
              "      <th></th>\n",
              "      <th>userId</th>\n",
              "      <th>movieId</th>\n",
              "      <th>rating</th>\n",
              "      <th>timestamp</th>\n",
              "    </tr>\n",
              "  </thead>\n",
              "  <tbody>\n",
              "    <tr>\n",
              "      <th>100831</th>\n",
              "      <td>610</td>\n",
              "      <td>166534</td>\n",
              "      <td>4.0</td>\n",
              "      <td>1493848402</td>\n",
              "    </tr>\n",
              "    <tr>\n",
              "      <th>100832</th>\n",
              "      <td>610</td>\n",
              "      <td>168248</td>\n",
              "      <td>5.0</td>\n",
              "      <td>1493850091</td>\n",
              "    </tr>\n",
              "    <tr>\n",
              "      <th>100833</th>\n",
              "      <td>610</td>\n",
              "      <td>168250</td>\n",
              "      <td>5.0</td>\n",
              "      <td>1494273047</td>\n",
              "    </tr>\n",
              "    <tr>\n",
              "      <th>100834</th>\n",
              "      <td>610</td>\n",
              "      <td>168252</td>\n",
              "      <td>5.0</td>\n",
              "      <td>1493846352</td>\n",
              "    </tr>\n",
              "    <tr>\n",
              "      <th>100835</th>\n",
              "      <td>610</td>\n",
              "      <td>170875</td>\n",
              "      <td>3.0</td>\n",
              "      <td>1493846415</td>\n",
              "    </tr>\n",
              "  </tbody>\n",
              "</table>\n",
              "</div>"
            ],
            "text/plain": [
              "        userId  movieId  rating   timestamp\n",
              "100831     610   166534     4.0  1493848402\n",
              "100832     610   168248     5.0  1493850091\n",
              "100833     610   168250     5.0  1494273047\n",
              "100834     610   168252     5.0  1493846352\n",
              "100835     610   170875     3.0  1493846415"
            ]
          },
          "metadata": {
            "tags": []
          },
          "execution_count": 13
        }
      ]
    },
    {
      "cell_type": "code",
      "metadata": {
        "id": "lvkoUjfKRxcM"
      },
      "source": [
        "# importing tags database\n",
        "# downloaded = drive.CreateFile({'id':'1XlV-1z1HXgVrFVy901c23L0kqnl1aj5a'}) # replace the id with id of file you want to access\n",
        "# downloaded.GetContentFile('tags.csv')\n",
        "# tags = pd.read_csv('tags.csv', sep=',')"
      ],
      "execution_count": null,
      "outputs": []
    },
    {
      "cell_type": "code",
      "metadata": {
        "id": "3Vuzkr7vSHjn"
      },
      "source": [
        "# pd.to_datetime(tags['timestamp']).dt.date #something's wrong. The same date for all? Don't think so..."
      ],
      "execution_count": null,
      "outputs": []
    },
    {
      "cell_type": "code",
      "metadata": {
        "id": "5hXKV_k5SVli"
      },
      "source": [
        "#from datetime import datetime\n",
        "# tags['datetime']=[datetime.fromtimestamp(x) for x in tags['timestamp']] # now we're talking."
      ],
      "execution_count": null,
      "outputs": []
    },
    {
      "cell_type": "markdown",
      "metadata": {
        "id": "3-4y-nFSTK-k"
      },
      "source": [
        "# Joining **movie** df and **ratings** df together"
      ]
    },
    {
      "cell_type": "markdown",
      "metadata": {
        "id": "U2uodl761JU5"
      },
      "source": [
        "##### **movie** df: Merging **movies** df with **ratings** df, keeping userId"
      ]
    },
    {
      "cell_type": "code",
      "metadata": {
        "id": "ubYfPE607cO1"
      },
      "source": [
        "movie = pd.merge(ratings, movies, on='movieId') #keeping ratings by user"
      ],
      "execution_count": null,
      "outputs": []
    },
    {
      "cell_type": "code",
      "metadata": {
        "id": "sDwcxbVhtSkx"
      },
      "source": [
        "# movie['title'] = movie['title'].astype(\"str\") #converting the title from type object to string"
      ],
      "execution_count": null,
      "outputs": []
    },
    {
      "cell_type": "code",
      "metadata": {
        "id": "l2IqhptmANcd"
      },
      "source": [
        "# adding a column \"datetime\" so we have a notion of the ratings' dates. Not really relevant for the model, just curiosity\n",
        "\n",
        "# from datetime import datetime\n",
        "# movie['datetime']=[datetime.fromtimestamp(x) for x in movie['timestamp']]"
      ],
      "execution_count": null,
      "outputs": []
    },
    {
      "cell_type": "markdown",
      "metadata": {
        "id": "oGwS9pbg0vB6"
      },
      "source": [
        "##### **movie2** df: Find the mean rating and merge it with the **movies** df, not considering the userId"
      ]
    },
    {
      "cell_type": "code",
      "metadata": {
        "id": "txghWtLoOV6N"
      },
      "source": [
        "rated = ratings.groupby(['movieId']).mean() #mean rating\n",
        "\n",
        "movie2 = movies.merge(rated, how='left',left_on=movies['movieId'], right_on=[rated.index])\n",
        "\n",
        "movie2 = movie2.drop(['key_0','userId'],1) # dropping irrelevant columns"
      ],
      "execution_count": null,
      "outputs": []
    },
    {
      "cell_type": "code",
      "metadata": {
        "id": "GlW-F9Wr7ncu"
      },
      "source": [
        "movie2['rating'] = round(movie2['rating'],2) #rounding the ratings to two decimal places"
      ],
      "execution_count": null,
      "outputs": []
    },
    {
      "cell_type": "code",
      "metadata": {
        "id": "5Zh4JnPv7xXe",
        "colab": {
          "base_uri": "https://localhost:8080/"
        },
        "outputId": "fb325175-31b2-42f9-9b47-e206bdf9d09b"
      },
      "source": [
        "movie2.head()"
      ],
      "execution_count": null,
      "outputs": [
        {
          "output_type": "execute_result",
          "data": {
            "text/html": [
              "<div>\n",
              "<style scoped>\n",
              "    .dataframe tbody tr th:only-of-type {\n",
              "        vertical-align: middle;\n",
              "    }\n",
              "\n",
              "    .dataframe tbody tr th {\n",
              "        vertical-align: top;\n",
              "    }\n",
              "\n",
              "    .dataframe thead th {\n",
              "        text-align: right;\n",
              "    }\n",
              "</style>\n",
              "<table border=\"1\" class=\"dataframe\">\n",
              "  <thead>\n",
              "    <tr style=\"text-align: right;\">\n",
              "      <th></th>\n",
              "      <th>movieId</th>\n",
              "      <th>title</th>\n",
              "      <th>genres</th>\n",
              "      <th>rating</th>\n",
              "      <th>timestamp</th>\n",
              "    </tr>\n",
              "  </thead>\n",
              "  <tbody>\n",
              "    <tr>\n",
              "      <th>0</th>\n",
              "      <td>1</td>\n",
              "      <td>Toy Story (1995)</td>\n",
              "      <td>Adventure|Animation|Children|Comedy|Fantasy</td>\n",
              "      <td>3.92</td>\n",
              "      <td>1.129835e+09</td>\n",
              "    </tr>\n",
              "    <tr>\n",
              "      <th>1</th>\n",
              "      <td>2</td>\n",
              "      <td>Jumanji (1995)</td>\n",
              "      <td>Adventure|Children|Fantasy</td>\n",
              "      <td>3.43</td>\n",
              "      <td>1.135805e+09</td>\n",
              "    </tr>\n",
              "    <tr>\n",
              "      <th>2</th>\n",
              "      <td>3</td>\n",
              "      <td>Grumpier Old Men (1995)</td>\n",
              "      <td>Comedy|Romance</td>\n",
              "      <td>3.26</td>\n",
              "      <td>1.005110e+09</td>\n",
              "    </tr>\n",
              "    <tr>\n",
              "      <th>3</th>\n",
              "      <td>4</td>\n",
              "      <td>Waiting to Exhale (1995)</td>\n",
              "      <td>Comedy|Drama|Romance</td>\n",
              "      <td>2.36</td>\n",
              "      <td>8.985789e+08</td>\n",
              "    </tr>\n",
              "    <tr>\n",
              "      <th>4</th>\n",
              "      <td>5</td>\n",
              "      <td>Father of the Bride Part II (1995)</td>\n",
              "      <td>Comedy</td>\n",
              "      <td>3.07</td>\n",
              "      <td>9.926643e+08</td>\n",
              "    </tr>\n",
              "  </tbody>\n",
              "</table>\n",
              "</div>"
            ],
            "text/plain": [
              "   movieId                               title  ... rating     timestamp\n",
              "0        1                    Toy Story (1995)  ...   3.92  1.129835e+09\n",
              "1        2                      Jumanji (1995)  ...   3.43  1.135805e+09\n",
              "2        3             Grumpier Old Men (1995)  ...   3.26  1.005110e+09\n",
              "3        4            Waiting to Exhale (1995)  ...   2.36  8.985789e+08\n",
              "4        5  Father of the Bride Part II (1995)  ...   3.07  9.926643e+08\n",
              "\n",
              "[5 rows x 5 columns]"
            ]
          },
          "metadata": {
            "tags": []
          },
          "execution_count": 22
        }
      ]
    },
    {
      "cell_type": "markdown",
      "metadata": {
        "id": "BuRLQTIC1-Rz"
      },
      "source": [
        "# ratings_mean_count: A df with titles and mean ratings, and also a column with rating counts\n"
      ]
    },
    {
      "cell_type": "code",
      "metadata": {
        "id": "Z3WFUTaTqiWx",
        "colab": {
          "base_uri": "https://localhost:8080/"
        },
        "outputId": "7d7b09d4-708d-429f-d783-bf72e368fb69"
      },
      "source": [
        "movie.groupby('title')['rating'].count().sort_values(ascending=False).head() #number of ratings for each movie"
      ],
      "execution_count": null,
      "outputs": [
        {
          "output_type": "execute_result",
          "data": {
            "text/plain": [
              "title\n",
              "Forrest Gump (1994)                 329\n",
              "Shawshank Redemption, The (1994)    317\n",
              "Pulp Fiction (1994)                 307\n",
              "Silence of the Lambs, The (1991)    279\n",
              "Matrix, The (1999)                  278\n",
              "Name: rating, dtype: int64"
            ]
          },
          "metadata": {
            "tags": []
          },
          "execution_count": 23
        }
      ]
    },
    {
      "cell_type": "markdown",
      "metadata": {
        "id": "OKsmDWhsUk_o"
      },
      "source": [
        "Good movies normally receive higher ratings. Now we know that both the average rating per movie and the number of ratings per movie are important attributes"
      ]
    },
    {
      "cell_type": "code",
      "metadata": {
        "id": "C7mcDRtdqzvm"
      },
      "source": [
        "# creating a new dataframe that contains both attributes\n",
        "\n",
        "ratings_mean_count = pd.DataFrame(movie.groupby('title')['rating'].mean()) # mean ratings"
      ],
      "execution_count": null,
      "outputs": []
    },
    {
      "cell_type": "code",
      "metadata": {
        "id": "nzBF24_7q84R"
      },
      "source": [
        "ratings_mean_count['rating_counts'] = pd.DataFrame(movie.groupby('title')['rating'].count()) #total ratings for each movie"
      ],
      "execution_count": null,
      "outputs": []
    },
    {
      "cell_type": "code",
      "metadata": {
        "id": "myRHehEYrHi5",
        "colab": {
          "base_uri": "https://localhost:8080/"
        },
        "outputId": "8db55b2c-73e3-471f-dee2-9a3770b323b7"
      },
      "source": [
        "ratings_mean_count.sort_values(by=\"rating_counts\", ascending=False).head() # top 5 most rated/popular movies"
      ],
      "execution_count": null,
      "outputs": [
        {
          "output_type": "execute_result",
          "data": {
            "text/html": [
              "<div>\n",
              "<style scoped>\n",
              "    .dataframe tbody tr th:only-of-type {\n",
              "        vertical-align: middle;\n",
              "    }\n",
              "\n",
              "    .dataframe tbody tr th {\n",
              "        vertical-align: top;\n",
              "    }\n",
              "\n",
              "    .dataframe thead th {\n",
              "        text-align: right;\n",
              "    }\n",
              "</style>\n",
              "<table border=\"1\" class=\"dataframe\">\n",
              "  <thead>\n",
              "    <tr style=\"text-align: right;\">\n",
              "      <th></th>\n",
              "      <th>rating</th>\n",
              "      <th>rating_counts</th>\n",
              "    </tr>\n",
              "    <tr>\n",
              "      <th>title</th>\n",
              "      <th></th>\n",
              "      <th></th>\n",
              "    </tr>\n",
              "  </thead>\n",
              "  <tbody>\n",
              "    <tr>\n",
              "      <th>Forrest Gump (1994)</th>\n",
              "      <td>4.164134</td>\n",
              "      <td>329</td>\n",
              "    </tr>\n",
              "    <tr>\n",
              "      <th>Shawshank Redemption, The (1994)</th>\n",
              "      <td>4.429022</td>\n",
              "      <td>317</td>\n",
              "    </tr>\n",
              "    <tr>\n",
              "      <th>Pulp Fiction (1994)</th>\n",
              "      <td>4.197068</td>\n",
              "      <td>307</td>\n",
              "    </tr>\n",
              "    <tr>\n",
              "      <th>Silence of the Lambs, The (1991)</th>\n",
              "      <td>4.161290</td>\n",
              "      <td>279</td>\n",
              "    </tr>\n",
              "    <tr>\n",
              "      <th>Matrix, The (1999)</th>\n",
              "      <td>4.192446</td>\n",
              "      <td>278</td>\n",
              "    </tr>\n",
              "  </tbody>\n",
              "</table>\n",
              "</div>"
            ],
            "text/plain": [
              "                                    rating  rating_counts\n",
              "title                                                    \n",
              "Forrest Gump (1994)               4.164134            329\n",
              "Shawshank Redemption, The (1994)  4.429022            317\n",
              "Pulp Fiction (1994)               4.197068            307\n",
              "Silence of the Lambs, The (1991)  4.161290            279\n",
              "Matrix, The (1999)                4.192446            278"
            ]
          },
          "metadata": {
            "tags": []
          },
          "execution_count": 26
        }
      ]
    },
    {
      "cell_type": "markdown",
      "metadata": {
        "id": "hzfzbl1WAES0"
      },
      "source": [
        "# Plotting to better understand our data"
      ]
    },
    {
      "cell_type": "code",
      "metadata": {
        "id": "1gfFjsKx-X5g",
        "colab": {
          "base_uri": "https://localhost:8080/",
          "height": 322
        },
        "outputId": "74d9e1d4-2eb2-44ef-d623-37910adb8a31"
      },
      "source": [
        "# plotting a histogram for average ratings\n",
        "\n",
        "import matplotlib.pyplot as plt\n",
        "\n",
        "plt.figure(figsize=(7,5))\n",
        "\n",
        "plt.rcParams['patch.force_edgecolor'] = True\n",
        "\n",
        "ratings_mean_count['rating'].hist(bins=50)\n",
        "plt.show()"
      ],
      "execution_count": null,
      "outputs": [
        {
          "output_type": "display_data",
          "data": {
            "image/png": "[encoded data removed]",
            "text/plain": [
              "<Figure size 504x360 with 1 Axes>"
            ]
          },
          "metadata": {
            "tags": [],
            "needs_background": "light"
          }
        }
      ]
    },
    {
      "cell_type": "markdown",
      "metadata": {
        "id": "lP8tLzTXB7cG"
      },
      "source": [
        "The integer values have taller bars than the floating values, since most of the users rate an integer value, like 1, 2, 3, 4 or 5."
      ]
    },
    {
      "cell_type": "code",
      "metadata": {
        "id": "PY9UvP4s_biW",
        "colab": {
          "base_uri": "https://localhost:8080/",
          "height": 458
        },
        "outputId": "ee738bd6-7260-439d-98b1-0cef41334bd4"
      },
      "source": [
        "# plotting average ratings against the number of ratings\n",
        "\n",
        "import seaborn as sns \n",
        "\n",
        "plt.figure(figsize=(7,5))\n",
        "\n",
        "plt.rcParams['patch.force_edgecolor'] = True\n",
        "\n",
        "sns.jointplot(x='rating', y='rating_counts', data=ratings_mean_count, alpha=0.6)\n",
        "plt.show()"
      ],
      "execution_count": null,
      "outputs": [
        {
          "output_type": "display_data",
          "data": {
            "text/plain": [
              "<Figure size 504x360 with 0 Axes>"
            ]
          },
          "metadata": {
            "tags": []
          }
        },
        {
          "output_type": "display_data",
          "data": {
            "image/png": "[encoded data removed]",
            "text/plain": [
              "<Figure size 432x432 with 3 Axes>"
            ]
          },
          "metadata": {
            "tags": [],
            "needs_background": "light"
          }
        }
      ]
    },
    {
      "cell_type": "markdown",
      "metadata": {
        "id": "tozXpsSgCCT2"
      },
      "source": [
        "In general, movies with higher average ratings actually have more number of ratings, compared with movies that have lower average ratings."
      ]
    },
    {
      "cell_type": "markdown",
      "metadata": {
        "id": "6pMELwvWXuoq"
      },
      "source": [
        "# Recommendation algorithm"
      ]
    },
    {
      "cell_type": "code",
      "metadata": {
        "id": "VCrKIx2jXyBy",
        "colab": {
          "base_uri": "https://localhost:8080/",
          "height": 119
        },
        "outputId": "66d6befe-e2bf-43b4-8489-311f9e1be3da"
      },
      "source": [
        "movie2.isnull().sum()"
      ],
      "execution_count": null,
      "outputs": [
        {
          "output_type": "execute_result",
          "data": {
            "text/plain": [
              "movieId       0\n",
              "title         0\n",
              "genres        0\n",
              "rating       18\n",
              "timestamp    18\n",
              "dtype: int64"
            ]
          },
          "metadata": {
            "tags": []
          },
          "execution_count": 29
        }
      ]
    },
    {
      "cell_type": "markdown",
      "metadata": {
        "id": "LdidLjLdCk7C"
      },
      "source": [
        "Dropping NaN values and the timestamp column."
      ]
    },
    {
      "cell_type": "code",
      "metadata": {
        "id": "Ubg4mg3MYIg6"
      },
      "source": [
        "movie2 = movie2.dropna()"
      ],
      "execution_count": null,
      "outputs": []
    },
    {
      "cell_type": "code",
      "metadata": {
        "id": "qx42nNUMYPaA"
      },
      "source": [
        "movie2.drop('timestamp', axis=1, inplace=True)"
      ],
      "execution_count": null,
      "outputs": []
    },
    {
      "cell_type": "markdown",
      "metadata": {
        "id": "vTGoDiBDCuLJ"
      },
      "source": [
        "Creating **movie_features** df: getting dummies for the genres and concatenating all the numeric columns which are relevant for the recommender."
      ]
    },
    {
      "cell_type": "code",
      "metadata": {
        "id": "4Ha8YeZ6YrJX",
        "colab": {
          "base_uri": "https://localhost:8080/",
          "height": 165
        },
        "outputId": "4704247e-ac37-4f2c-db6c-d824bc5845d9"
      },
      "source": [
        "movie_features = pd.concat([movie2[\"movieId\"],movie2[\"rating\"],movie2[\"genres\"].str.get_dummies(sep=\"|\")],axis=1)\n",
        "\n",
        "movie_features.head(2)"
      ],
      "execution_count": null,
      "outputs": [
        {
          "output_type": "execute_result",
          "data": {
            "text/html": [
              "<div>\n",
              "<style scoped>\n",
              "    .dataframe tbody tr th:only-of-type {\n",
              "        vertical-align: middle;\n",
              "    }\n",
              "\n",
              "    .dataframe tbody tr th {\n",
              "        vertical-align: top;\n",
              "    }\n",
              "\n",
              "    .dataframe thead th {\n",
              "        text-align: right;\n",
              "    }\n",
              "</style>\n",
              "<table border=\"1\" class=\"dataframe\">\n",
              "  <thead>\n",
              "    <tr style=\"text-align: right;\">\n",
              "      <th></th>\n",
              "      <th>movieId</th>\n",
              "      <th>rating</th>\n",
              "      <th>(no genres listed)</th>\n",
              "      <th>Action</th>\n",
              "      <th>Adventure</th>\n",
              "      <th>Animation</th>\n",
              "      <th>Children</th>\n",
              "      <th>Comedy</th>\n",
              "      <th>Crime</th>\n",
              "      <th>Documentary</th>\n",
              "      <th>Drama</th>\n",
              "      <th>Fantasy</th>\n",
              "      <th>Film-Noir</th>\n",
              "      <th>Horror</th>\n",
              "      <th>IMAX</th>\n",
              "      <th>Musical</th>\n",
              "      <th>Mystery</th>\n",
              "      <th>Romance</th>\n",
              "      <th>Sci-Fi</th>\n",
              "      <th>Thriller</th>\n",
              "      <th>War</th>\n",
              "      <th>Western</th>\n",
              "    </tr>\n",
              "  </thead>\n",
              "  <tbody>\n",
              "    <tr>\n",
              "      <th>0</th>\n",
              "      <td>1</td>\n",
              "      <td>3.92</td>\n",
              "      <td>0</td>\n",
              "      <td>0</td>\n",
              "      <td>1</td>\n",
              "      <td>1</td>\n",
              "      <td>1</td>\n",
              "      <td>1</td>\n",
              "      <td>0</td>\n",
              "      <td>0</td>\n",
              "      <td>0</td>\n",
              "      <td>1</td>\n",
              "      <td>0</td>\n",
              "      <td>0</td>\n",
              "      <td>0</td>\n",
              "      <td>0</td>\n",
              "      <td>0</td>\n",
              "      <td>0</td>\n",
              "      <td>0</td>\n",
              "      <td>0</td>\n",
              "      <td>0</td>\n",
              "      <td>0</td>\n",
              "    </tr>\n",
              "    <tr>\n",
              "      <th>1</th>\n",
              "      <td>2</td>\n",
              "      <td>3.43</td>\n",
              "      <td>0</td>\n",
              "      <td>0</td>\n",
              "      <td>1</td>\n",
              "      <td>0</td>\n",
              "      <td>1</td>\n",
              "      <td>0</td>\n",
              "      <td>0</td>\n",
              "      <td>0</td>\n",
              "      <td>0</td>\n",
              "      <td>1</td>\n",
              "      <td>0</td>\n",
              "      <td>0</td>\n",
              "      <td>0</td>\n",
              "      <td>0</td>\n",
              "      <td>0</td>\n",
              "      <td>0</td>\n",
              "      <td>0</td>\n",
              "      <td>0</td>\n",
              "      <td>0</td>\n",
              "      <td>0</td>\n",
              "    </tr>\n",
              "  </tbody>\n",
              "</table>\n",
              "</div>"
            ],
            "text/plain": [
              "   movieId  rating  (no genres listed)  Action  ...  Sci-Fi  Thriller  War  Western\n",
              "0        1    3.92                   0       0  ...       0         0    0        0\n",
              "1        2    3.43                   0       0  ...       0         0    0        0\n",
              "\n",
              "[2 rows x 22 columns]"
            ]
          },
          "metadata": {
            "tags": []
          },
          "execution_count": 32
        }
      ]
    },
    {
      "cell_type": "markdown",
      "metadata": {
        "id": "-5Yok2aNDQQc"
      },
      "source": [
        "Creating a new **movie3** df from **movie** df, summing up the rating count for each movieId."
      ]
    },
    {
      "cell_type": "code",
      "metadata": {
        "id": "sz6hPFnb_Gdn"
      },
      "source": [
        "movie3 = pd.DataFrame(movie.groupby('movieId')['rating'].count())"
      ],
      "execution_count": null,
      "outputs": []
    },
    {
      "cell_type": "code",
      "metadata": {
        "id": "XBm0YztHePsa",
        "colab": {
          "base_uri": "https://localhost:8080/",
          "height": 142
        },
        "outputId": "11213e6b-07e3-42ad-b1c9-fc5b20ebd8dd"
      },
      "source": [
        "movie3.head(2)"
      ],
      "execution_count": null,
      "outputs": [
        {
          "output_type": "execute_result",
          "data": {
            "text/html": [
              "<div>\n",
              "<style scoped>\n",
              "    .dataframe tbody tr th:only-of-type {\n",
              "        vertical-align: middle;\n",
              "    }\n",
              "\n",
              "    .dataframe tbody tr th {\n",
              "        vertical-align: top;\n",
              "    }\n",
              "\n",
              "    .dataframe thead th {\n",
              "        text-align: right;\n",
              "    }\n",
              "</style>\n",
              "<table border=\"1\" class=\"dataframe\">\n",
              "  <thead>\n",
              "    <tr style=\"text-align: right;\">\n",
              "      <th></th>\n",
              "      <th>rating</th>\n",
              "    </tr>\n",
              "    <tr>\n",
              "      <th>movieId</th>\n",
              "      <th></th>\n",
              "    </tr>\n",
              "  </thead>\n",
              "  <tbody>\n",
              "    <tr>\n",
              "      <th>1</th>\n",
              "      <td>215</td>\n",
              "    </tr>\n",
              "    <tr>\n",
              "      <th>2</th>\n",
              "      <td>110</td>\n",
              "    </tr>\n",
              "  </tbody>\n",
              "</table>\n",
              "</div>"
            ],
            "text/plain": [
              "         rating\n",
              "movieId        \n",
              "1           215\n",
              "2           110"
            ]
          },
          "metadata": {
            "tags": []
          },
          "execution_count": 34
        }
      ]
    },
    {
      "cell_type": "markdown",
      "metadata": {
        "id": "ORaHCgxgc_cu"
      },
      "source": [
        "Updating **movie_features** df, merging it with movie3, so it has also the total rating count for each movie."
      ]
    },
    {
      "cell_type": "code",
      "metadata": {
        "id": "NiJCAKe_8R0m"
      },
      "source": [
        "movie_features = movie_features.merge(movie3,left_on=movie_features['movieId'],right_on=[movie3.index])\n",
        "\n",
        "movie_features.drop('key_0',1,inplace=True) # dropping an irrelevant column\n",
        "\n",
        "movie_features.columns=['movieId', 'rating', '(no genres listed)', 'Action', 'Adventure', # renaming some columns\n",
        "       'Animation', 'Children', 'Comedy', 'Crime', 'Documentary', 'Drama',\n",
        "       'Fantasy', 'Film-Noir', 'Horror', 'IMAX', 'Musical', 'Mystery',\n",
        "       'Romance', 'Sci-Fi', 'Thriller', 'War', 'Western', 'n_rating']"
      ],
      "execution_count": null,
      "outputs": []
    },
    {
      "cell_type": "code",
      "metadata": {
        "id": "ZY05x7AXcw5q",
        "colab": {
          "base_uri": "https://localhost:8080/",
          "height": 165
        },
        "outputId": "d0dcf4f4-606b-44c5-9f30-13a2881100f5"
      },
      "source": [
        "movie_features.head(2)"
      ],
      "execution_count": null,
      "outputs": [
        {
          "output_type": "execute_result",
          "data": {
            "text/html": [
              "<div>\n",
              "<style scoped>\n",
              "    .dataframe tbody tr th:only-of-type {\n",
              "        vertical-align: middle;\n",
              "    }\n",
              "\n",
              "    .dataframe tbody tr th {\n",
              "        vertical-align: top;\n",
              "    }\n",
              "\n",
              "    .dataframe thead th {\n",
              "        text-align: right;\n",
              "    }\n",
              "</style>\n",
              "<table border=\"1\" class=\"dataframe\">\n",
              "  <thead>\n",
              "    <tr style=\"text-align: right;\">\n",
              "      <th></th>\n",
              "      <th>movieId</th>\n",
              "      <th>rating</th>\n",
              "      <th>(no genres listed)</th>\n",
              "      <th>Action</th>\n",
              "      <th>Adventure</th>\n",
              "      <th>Animation</th>\n",
              "      <th>Children</th>\n",
              "      <th>Comedy</th>\n",
              "      <th>Crime</th>\n",
              "      <th>Documentary</th>\n",
              "      <th>Drama</th>\n",
              "      <th>Fantasy</th>\n",
              "      <th>Film-Noir</th>\n",
              "      <th>Horror</th>\n",
              "      <th>IMAX</th>\n",
              "      <th>Musical</th>\n",
              "      <th>Mystery</th>\n",
              "      <th>Romance</th>\n",
              "      <th>Sci-Fi</th>\n",
              "      <th>Thriller</th>\n",
              "      <th>War</th>\n",
              "      <th>Western</th>\n",
              "      <th>n_rating</th>\n",
              "    </tr>\n",
              "  </thead>\n",
              "  <tbody>\n",
              "    <tr>\n",
              "      <th>0</th>\n",
              "      <td>1</td>\n",
              "      <td>3.92</td>\n",
              "      <td>0</td>\n",
              "      <td>0</td>\n",
              "      <td>1</td>\n",
              "      <td>1</td>\n",
              "      <td>1</td>\n",
              "      <td>1</td>\n",
              "      <td>0</td>\n",
              "      <td>0</td>\n",
              "      <td>0</td>\n",
              "      <td>1</td>\n",
              "      <td>0</td>\n",
              "      <td>0</td>\n",
              "      <td>0</td>\n",
              "      <td>0</td>\n",
              "      <td>0</td>\n",
              "      <td>0</td>\n",
              "      <td>0</td>\n",
              "      <td>0</td>\n",
              "      <td>0</td>\n",
              "      <td>0</td>\n",
              "      <td>215</td>\n",
              "    </tr>\n",
              "    <tr>\n",
              "      <th>1</th>\n",
              "      <td>2</td>\n",
              "      <td>3.43</td>\n",
              "      <td>0</td>\n",
              "      <td>0</td>\n",
              "      <td>1</td>\n",
              "      <td>0</td>\n",
              "      <td>1</td>\n",
              "      <td>0</td>\n",
              "      <td>0</td>\n",
              "      <td>0</td>\n",
              "      <td>0</td>\n",
              "      <td>1</td>\n",
              "      <td>0</td>\n",
              "      <td>0</td>\n",
              "      <td>0</td>\n",
              "      <td>0</td>\n",
              "      <td>0</td>\n",
              "      <td>0</td>\n",
              "      <td>0</td>\n",
              "      <td>0</td>\n",
              "      <td>0</td>\n",
              "      <td>0</td>\n",
              "      <td>110</td>\n",
              "    </tr>\n",
              "  </tbody>\n",
              "</table>\n",
              "</div>"
            ],
            "text/plain": [
              "   movieId  rating  (no genres listed)  ...  War  Western  n_rating\n",
              "0        1    3.92                   0  ...    0        0       215\n",
              "1        2    3.43                   0  ...    0        0       110\n",
              "\n",
              "[2 rows x 23 columns]"
            ]
          },
          "metadata": {
            "tags": []
          },
          "execution_count": 36
        }
      ]
    },
    {
      "cell_type": "markdown",
      "metadata": {
        "id": "sqljO8Cbd496"
      },
      "source": [
        "Creating **movie4** df, which is a merge of **movie2** and **movie3** dfs. This will be our final df to use on the recommender system."
      ]
    },
    {
      "cell_type": "code",
      "metadata": {
        "id": "E3Z1u9Vmpha7",
        "colab": {
          "base_uri": "https://localhost:8080/",
          "height": 111
        },
        "outputId": "0ca96010-c0cc-4bb9-9a3e-b6677824278b"
      },
      "source": [
        "movie4 = movie2.merge(movie3,left_on=movie2['movieId'],right_on=[movie3.index])\n",
        "\n",
        "movie4.drop('key_0',1,inplace=True) # dropping an irrelevant column\n",
        "\n",
        "movie4.columns=['movieId', 'title', 'genres', 'rating', 'n_rating'] # renaming columns\n",
        "\n",
        "movie4.head(2)"
      ],
      "execution_count": null,
      "outputs": [
        {
          "output_type": "execute_result",
          "data": {
            "text/html": [
              "<div>\n",
              "<style scoped>\n",
              "    .dataframe tbody tr th:only-of-type {\n",
              "        vertical-align: middle;\n",
              "    }\n",
              "\n",
              "    .dataframe tbody tr th {\n",
              "        vertical-align: top;\n",
              "    }\n",
              "\n",
              "    .dataframe thead th {\n",
              "        text-align: right;\n",
              "    }\n",
              "</style>\n",
              "<table border=\"1\" class=\"dataframe\">\n",
              "  <thead>\n",
              "    <tr style=\"text-align: right;\">\n",
              "      <th></th>\n",
              "      <th>movieId</th>\n",
              "      <th>title</th>\n",
              "      <th>genres</th>\n",
              "      <th>rating</th>\n",
              "      <th>n_rating</th>\n",
              "    </tr>\n",
              "  </thead>\n",
              "  <tbody>\n",
              "    <tr>\n",
              "      <th>0</th>\n",
              "      <td>1</td>\n",
              "      <td>Toy Story (1995)</td>\n",
              "      <td>Adventure|Animation|Children|Comedy|Fantasy</td>\n",
              "      <td>3.92</td>\n",
              "      <td>215</td>\n",
              "    </tr>\n",
              "    <tr>\n",
              "      <th>1</th>\n",
              "      <td>2</td>\n",
              "      <td>Jumanji (1995)</td>\n",
              "      <td>Adventure|Children|Fantasy</td>\n",
              "      <td>3.43</td>\n",
              "      <td>110</td>\n",
              "    </tr>\n",
              "  </tbody>\n",
              "</table>\n",
              "</div>"
            ],
            "text/plain": [
              "   movieId             title  ... rating  n_rating\n",
              "0        1  Toy Story (1995)  ...   3.92       215\n",
              "1        2    Jumanji (1995)  ...   3.43       110\n",
              "\n",
              "[2 rows x 5 columns]"
            ]
          },
          "metadata": {
            "tags": []
          },
          "execution_count": 37
        }
      ]
    },
    {
      "cell_type": "markdown",
      "metadata": {
        "id": "1ar8NVC4Wfkh"
      },
      "source": [
        "Normalizing:  Normalization makes the data better conditioned for convergence."
      ]
    },
    {
      "cell_type": "code",
      "metadata": {
        "id": "iqzo4WoaaGgo"
      },
      "source": [
        "#Normalizing\n",
        "\n",
        "from sklearn.preprocessing import MinMaxScaler\n",
        "\n",
        "min_max_scaler = MinMaxScaler()\n",
        "movie_features2 = min_max_scaler.fit_transform(movie_features)"
      ],
      "execution_count": null,
      "outputs": []
    },
    {
      "cell_type": "markdown",
      "metadata": {
        "id": "0BoKhNI8WkU7"
      },
      "source": [
        "We'll use Nearest Neighbors for building our recommendation system."
      ]
    },
    {
      "cell_type": "code",
      "metadata": {
        "id": "9APl9a9OajD0"
      },
      "source": [
        "#Fitting Nearest Neighbors to our Data\n",
        "\n",
        "\n",
        "from sklearn.neighbors import NearestNeighbors\n",
        "\n",
        "\n",
        "nbrs = NearestNeighbors(n_neighbors=12, algorithm='ball_tree').fit(movie_features2)\n",
        "\n",
        "distances, indices = nbrs.kneighbors(movie_features2)"
      ],
      "execution_count": null,
      "outputs": []
    },
    {
      "cell_type": "markdown",
      "metadata": {
        "id": "6dmxnHRKYk-O"
      },
      "source": [
        "Helper function: **get_index_from_title** returns the index of the title if given the full movie name."
      ]
    },
    {
      "cell_type": "code",
      "metadata": {
        "id": "eYS5xiHRvcQv"
      },
      "source": [
        "def get_index_from_title(title):\n",
        "    return movie4[movie4[\"title\"]==title].index.tolist()[0]"
      ],
      "execution_count": null,
      "outputs": []
    },
    {
      "cell_type": "markdown",
      "metadata": {
        "id": "-RgWBqdWZBRf"
      },
      "source": [
        "**your_movie** returns a list of the title, genre and rating if given the full movie name. [Movies tab]"
      ]
    },
    {
      "cell_type": "code",
      "metadata": {
        "id": "10kzbXgZR_rD",
        "colab": {
          "base_uri": "https://localhost:8080/",
          "height": 34
        },
        "outputId": "d6997044-60b9-4b91-ca96-61e53a336183"
      },
      "source": [
        "def your_movie(item):\n",
        "  b=movie4[movie4['title']==item][['title','genres','rating']].values.tolist()[0]\n",
        "  return b\n",
        "your_movie('Jumanji (1995)')"
      ],
      "execution_count": null,
      "outputs": [
        {
          "output_type": "execute_result",
          "data": {
            "text/plain": [
              "['Jumanji (1995)', 'Adventure|Children|Fantasy', 3.43]"
            ]
          },
          "metadata": {
            "tags": []
          },
          "execution_count": 41
        }
      ]
    },
    {
      "cell_type": "markdown",
      "metadata": {
        "id": "sSeQdjpqbaaN"
      },
      "source": [
        "**print_similar_movies** prints the top 5 similar movies after querying [Movies tab]"
      ]
    },
    {
      "cell_type": "code",
      "metadata": {
        "id": "idJGgLnU4Iyz"
      },
      "source": [
        "# with format\n",
        "def print_similar_movies(query): \n",
        "  found_id = get_index_from_title(query)\n",
        "  a = movie4.loc[indices[found_id][1:]].sort_values('n_rating',ascending=False)[['title','genres','rating']].values.tolist()[0:5]\n",
        "  f = '{}\\n{}\\n{}\\n' # formatting\n",
        "  for i in a:\n",
        "    print(f.format(*i))"
      ],
      "execution_count": null,
      "outputs": []
    },
    {
      "cell_type": "code",
      "metadata": {
        "id": "qXu2A_dga--t",
        "colab": {
          "base_uri": "https://localhost:8080/",
          "height": 357
        },
        "outputId": "ff543098-c642-4a54-ab64-1a7e116c131e"
      },
      "source": [
        "print_similar_movies('Toy Story (1995)')"
      ],
      "execution_count": null,
      "outputs": [
        {
          "output_type": "stream",
          "text": [
            "Monsters, Inc. (2001)\n",
            "Adventure|Animation|Children|Comedy|Fantasy\n",
            "3.87\n",
            "\n",
            "Toy Story 2 (1999)\n",
            "Adventure|Animation|Children|Comedy|Fantasy\n",
            "3.86\n",
            "\n",
            "Antz (1998)\n",
            "Adventure|Animation|Children|Comedy|Fantasy\n",
            "3.24\n",
            "\n",
            "Emperor's New Groove, The (2000)\n",
            "Adventure|Animation|Children|Comedy|Fantasy\n",
            "3.72\n",
            "\n",
            "Shrek the Third (2007)\n",
            "Adventure|Animation|Children|Comedy|Fantasy\n",
            "3.02\n",
            "\n"
          ],
          "name": "stdout"
        }
      ]
    },
    {
      "cell_type": "code",
      "metadata": {
        "id": "_-sL2p11fUph",
        "colab": {
          "base_uri": "https://localhost:8080/",
          "height": 54
        },
        "outputId": "f4196176-19ea-40fb-9b5f-9d50c6b7fbdd"
      },
      "source": [
        "# no format\n",
        "\n",
        "\"\"\"\n",
        "\n",
        "def print_similar_movies(query): \n",
        "  found_id = get_index_from_title(query)\n",
        "  a = movie4.loc[indices[found_id][1:]].sort_values('n_rating',ascending=False)[['title','genres','rating']].values.tolist()[0:5]\n",
        "  print(a[0][0])\n",
        "\n",
        "\"\"\""
      ],
      "execution_count": null,
      "outputs": [
        {
          "output_type": "execute_result",
          "data": {
            "text/plain": [
              "\"\\n\\ndef print_similar_movies(query): \\n  found_id = get_index_from_title(query)\\n  a = movie4.loc[indices[found_id][1:]].sort_values('n_rating',ascending=False)[['title','genres','rating']].values.tolist()[0:5]\\n  print(a[0][0])\\n\\n\""
            ]
          },
          "metadata": {
            "tags": []
          },
          "execution_count": 44
        }
      ]
    },
    {
      "cell_type": "code",
      "metadata": {
        "id": "b-Qr1elec2RG"
      },
      "source": [
        "# getting the movies that only have a number of ratings bigger than 100, in a descending order\n",
        "\n",
        "# movie4[movie4['n_rating']>100].sort_values('rating',ascending=False)"
      ],
      "execution_count": null,
      "outputs": []
    },
    {
      "cell_type": "code",
      "metadata": {
        "id": "Vta_QfkAn1OJ",
        "colab": {
          "base_uri": "https://localhost:8080/",
          "height": 34
        },
        "outputId": "5487db85-e511-424b-cd25-acc082da1e51"
      },
      "source": [
        "'''\n",
        "from google.colab import drive\n",
        "drive.mount('drive')     '''"
      ],
      "execution_count": null,
      "outputs": [
        {
          "output_type": "execute_result",
          "data": {
            "text/plain": [
              "\"\\nfrom google.colab import drive\\ndrive.mount('drive')     \""
            ]
          },
          "metadata": {
            "tags": []
          },
          "execution_count": 46
        }
      ]
    },
    {
      "cell_type": "code",
      "metadata": {
        "id": "eRes5yq4oOST",
        "colab": {
          "base_uri": "https://localhost:8080/",
          "height": 34
        },
        "outputId": "8355c4a4-86a9-4949-93f3-75bf208b9b32"
      },
      "source": [
        "'''\n",
        "movie4.to_csv('movie4.csv')\n",
        "!cp data.csv \"drive/My Drive/\"   '''"
      ],
      "execution_count": null,
      "outputs": [
        {
          "output_type": "execute_result",
          "data": {
            "text/plain": [
              "'\\nmovie4.to_csv(\\'movie4.csv\\')\\n!cp data.csv \"drive/My Drive/\"   '"
            ]
          },
          "metadata": {
            "tags": []
          },
          "execution_count": 47
        }
      ]
    },
    {
      "cell_type": "markdown",
      "metadata": {
        "id": "zvxiOTOaSrHk"
      },
      "source": [
        "# Further experiments: a random engine based on genre [Discover tab]"
      ]
    },
    {
      "cell_type": "code",
      "metadata": {
        "id": "2KZwHXhPSwhO",
        "colab": {
          "base_uri": "https://localhost:8080/",
          "height": 374
        },
        "outputId": "8806d4bc-21d5-45e7-92bd-f93d59735822"
      },
      "source": [
        "# for fun a lit randomize that could be added as an extra\n",
        "x = input('choose a genre: ')\n",
        "\n",
        "def randomize(x):\n",
        "  a = movie4[(movie4['genres'].str.contains(x,case=False)) & (movie4['rating']>3)].sample(5)[['title','genres','rating']].values.tolist()\n",
        "  f = '{}\\n{}\\n{}\\n' # formatting\n",
        "  for i in a:\n",
        "    print(f.format(*i))\n",
        "randomize(x)"
      ],
      "execution_count": null,
      "outputs": [
        {
          "output_type": "stream",
          "text": [
            "choose a genre: Action\n",
            "Forbidden Kingdom, The (2008)\n",
            "Action|Adventure|Comedy|Fantasy\n",
            "3.83\n",
            "\n",
            "Total Recall (2012)\n",
            "Action|Sci-Fi|Thriller\n",
            "3.19\n",
            "\n",
            "The Mummy (2017)\n",
            "Action|Adventure|Fantasy|Horror|Thriller\n",
            "3.5\n",
            "\n",
            "Headhunters (Hodejegerne) (2011)\n",
            "Action|Crime|Thriller\n",
            "3.6\n",
            "\n",
            "Untouchables, The (1987)\n",
            "Action|Crime|Drama\n",
            "3.94\n",
            "\n"
          ],
          "name": "stdout"
        }
      ]
    },
    {
      "cell_type": "markdown",
      "metadata": {
        "id": "RcvxaM1kSnmQ"
      },
      "source": [
        "# Further experiments (Not used): A search engine that returns all movies which contain the given input on their title."
      ]
    },
    {
      "cell_type": "code",
      "metadata": {
        "id": "gwY7Da5MKl53",
        "colab": {
          "base_uri": "https://localhost:8080/",
          "height": 1000
        },
        "outputId": "75f42a6c-086f-466a-ed8b-4da867b6a582"
      },
      "source": [
        "# little search engine\n",
        "x = input('what are you searching for? ')\n",
        "\n",
        "def lookmeup (x):\n",
        "  b = movie4[movie4['title'].str.contains(x,case=False)][['title','genres','rating']].values.tolist()\n",
        "  f = '{}\\n{}\\n{}\\n' # formatting\n",
        "  for i in b:\n",
        "    print(f.format(*i))\n",
        "    \n",
        "lookmeup(x)"
      ],
      "execution_count": null,
      "outputs": [
        {
          "output_type": "stream",
          "text": [
            "what are you searching for? Harry\n",
            "When Harry Met Sally... (1989)\n",
            "Comedy|Romance\n",
            "3.86\n",
            "\n",
            "Deconstructing Harry (1997)\n",
            "Comedy|Drama\n",
            "3.88\n",
            "\n",
            "Trouble with Harry, The (1955)\n",
            "Comedy|Mystery\n",
            "3.42\n",
            "\n",
            "Who's Harry Crumb? (1989)\n",
            "Comedy|Mystery\n",
            "2.86\n",
            "\n",
            "Harry and the Hendersons (1987)\n",
            "Children|Comedy\n",
            "2.55\n",
            "\n",
            "Let's Get Harry (1986)\n",
            "Action|Adventure\n",
            "2.0\n",
            "\n",
            "With a Friend Like Harry... (Harry, un ami qui vous veut du bien) (2000)\n",
            "Drama|Thriller\n",
            "4.5\n",
            "\n",
            "Dirty Harry (1971)\n",
            "Action|Crime|Thriller\n",
            "3.78\n",
            "\n",
            "Harry Potter and the Sorcerer's Stone (a.k.a. Harry Potter and the Philosopher's Stone) (2001)\n",
            "Adventure|Children|Fantasy\n",
            "3.76\n",
            "\n",
            "Harry Potter and the Chamber of Secrets (2002)\n",
            "Adventure|Fantasy\n",
            "3.6\n",
            "\n",
            "Dumb and Dumberer: When Harry Met Lloyd (2003)\n",
            "Comedy\n",
            "1.95\n",
            "\n",
            "Harry Potter and the Prisoner of Azkaban (2004)\n",
            "Adventure|Fantasy|IMAX\n",
            "3.91\n",
            "\n",
            "Harry Potter and the Goblet of Fire (2005)\n",
            "Adventure|Fantasy|Thriller|IMAX\n",
            "3.82\n",
            "\n",
            "Harry Potter and the Order of the Phoenix (2007)\n",
            "Adventure|Drama|Fantasy|IMAX\n",
            "3.86\n",
            "\n",
            "Harry Potter and the Half-Blood Prince (2009)\n",
            "Adventure|Fantasy|Mystery|Romance|IMAX\n",
            "3.89\n",
            "\n",
            "Harry Brown (2009)\n",
            "Crime|Drama|Thriller\n",
            "4.0\n",
            "\n",
            "Harry Potter and the Deathly Hallows: Part 1 (2010)\n",
            "Action|Adventure|Fantasy|IMAX\n",
            "3.99\n",
            "\n",
            "Harry Potter and the Deathly Hallows: Part 2 (2011)\n",
            "Action|Adventure|Drama|Fantasy|Mystery|IMAX\n",
            "3.91\n",
            "\n"
          ],
          "name": "stdout"
        }
      ]
    },
    {
      "cell_type": "markdown",
      "metadata": {
        "id": "w9HlCVbuAvfJ"
      },
      "source": [
        "# TESTS: (Not used) Recommender: Finding similarities between movies"
      ]
    },
    {
      "cell_type": "code",
      "metadata": {
        "id": "_VhjH9lUAyzK",
        "colab": {
          "base_uri": "https://localhost:8080/"
        },
        "outputId": "f9915a18-b856-41f1-c673-c8bd72794d16"
      },
      "source": [
        "# Using the correlation between the ratings of a movie as the similarity metric. \n",
        "# we'll create a matrix where each column is a movie name and each row contains the rating assigned by a specific user to that movie\n",
        "\n",
        "user_movie_rating = movie.pivot_table(index='userId', columns='title', values='rating')\n",
        "user_movie_rating.head()"
      ],
      "execution_count": null,
      "outputs": [
        {
          "output_type": "execute_result",
          "data": {
            "text/html": [
              "<div>\n",
              "<style scoped>\n",
              "    .dataframe tbody tr th:only-of-type {\n",
              "        vertical-align: middle;\n",
              "    }\n",
              "\n",
              "    .dataframe tbody tr th {\n",
              "        vertical-align: top;\n",
              "    }\n",
              "\n",
              "    .dataframe thead th {\n",
              "        text-align: right;\n",
              "    }\n",
              "</style>\n",
              "<table border=\"1\" class=\"dataframe\">\n",
              "  <thead>\n",
              "    <tr style=\"text-align: right;\">\n",
              "      <th>title</th>\n",
              "      <th>'71 (2014)</th>\n",
              "      <th>'Hellboy': The Seeds of Creation (2004)</th>\n",
              "      <th>'Round Midnight (1986)</th>\n",
              "      <th>'Salem's Lot (2004)</th>\n",
              "      <th>'Til There Was You (1997)</th>\n",
              "      <th>'Tis the Season for Love (2015)</th>\n",
              "      <th>'burbs, The (1989)</th>\n",
              "      <th>'night Mother (1986)</th>\n",
              "      <th>(500) Days of Summer (2009)</th>\n",
              "      <th>*batteries not included (1987)</th>\n",
              "      <th>...All the Marbles (1981)</th>\n",
              "      <th>...And Justice for All (1979)</th>\n",
              "      <th>00 Schneider - Jagd auf Nihil Baxter (1994)</th>\n",
              "      <th>1-900 (06) (1994)</th>\n",
              "      <th>10 (1979)</th>\n",
              "      <th>10 Cent Pistol (2015)</th>\n",
              "      <th>10 Cloverfield Lane (2016)</th>\n",
              "      <th>10 Items or Less (2006)</th>\n",
              "      <th>10 Things I Hate About You (1999)</th>\n",
              "      <th>10 Years (2011)</th>\n",
              "      <th>10,000 BC (2008)</th>\n",
              "      <th>100 Girls (2000)</th>\n",
              "      <th>100 Streets (2016)</th>\n",
              "      <th>101 Dalmatians (1996)</th>\n",
              "      <th>101 Dalmatians (One Hundred and One Dalmatians) (1961)</th>\n",
              "      <th>101 Dalmatians II: Patch's London Adventure (2003)</th>\n",
              "      <th>101 Reykjavik (101 Reykjavík) (2000)</th>\n",
              "      <th>102 Dalmatians (2000)</th>\n",
              "      <th>10th &amp; Wolf (2006)</th>\n",
              "      <th>10th Kingdom, The (2000)</th>\n",
              "      <th>10th Victim, The (La decima vittima) (1965)</th>\n",
              "      <th>11'09\"01 - September 11 (2002)</th>\n",
              "      <th>11:14 (2003)</th>\n",
              "      <th>11th Hour, The (2007)</th>\n",
              "      <th>12 Angry Men (1957)</th>\n",
              "      <th>12 Angry Men (1997)</th>\n",
              "      <th>12 Chairs (1971)</th>\n",
              "      <th>12 Chairs (1976)</th>\n",
              "      <th>12 Rounds (2009)</th>\n",
              "      <th>12 Years a Slave (2013)</th>\n",
              "      <th>...</th>\n",
              "      <th>Zathura (2005)</th>\n",
              "      <th>Zatoichi and the Chest of Gold (Zatôichi senryô-kubi) (Zatôichi 6) (1964)</th>\n",
              "      <th>Zazie dans le métro (1960)</th>\n",
              "      <th>Zebraman (2004)</th>\n",
              "      <th>Zed &amp; Two Noughts, A (1985)</th>\n",
              "      <th>Zeitgeist: Addendum (2008)</th>\n",
              "      <th>Zeitgeist: Moving Forward (2011)</th>\n",
              "      <th>Zeitgeist: The Movie (2007)</th>\n",
              "      <th>Zelary (2003)</th>\n",
              "      <th>Zelig (1983)</th>\n",
              "      <th>Zero Dark Thirty (2012)</th>\n",
              "      <th>Zero Effect (1998)</th>\n",
              "      <th>Zero Theorem, The (2013)</th>\n",
              "      <th>Zero de conduite (Zero for Conduct) (Zéro de conduite: Jeunes diables au collège) (1933)</th>\n",
              "      <th>Zeus and Roxanne (1997)</th>\n",
              "      <th>Zipper (2015)</th>\n",
              "      <th>Zodiac (2007)</th>\n",
              "      <th>Zombeavers (2014)</th>\n",
              "      <th>Zombie (a.k.a. Zombie 2: The Dead Are Among Us) (Zombi 2) (1979)</th>\n",
              "      <th>Zombie Strippers! (2008)</th>\n",
              "      <th>Zombieland (2009)</th>\n",
              "      <th>Zone 39 (1997)</th>\n",
              "      <th>Zone, The (La Zona) (2007)</th>\n",
              "      <th>Zookeeper (2011)</th>\n",
              "      <th>Zoolander (2001)</th>\n",
              "      <th>Zoolander 2 (2016)</th>\n",
              "      <th>Zoom (2006)</th>\n",
              "      <th>Zoom (2015)</th>\n",
              "      <th>Zootopia (2016)</th>\n",
              "      <th>Zulu (1964)</th>\n",
              "      <th>Zulu (2013)</th>\n",
              "      <th>[REC] (2007)</th>\n",
              "      <th>[REC]² (2009)</th>\n",
              "      <th>[REC]³ 3 Génesis (2012)</th>\n",
              "      <th>anohana: The Flower We Saw That Day - The Movie (2013)</th>\n",
              "      <th>eXistenZ (1999)</th>\n",
              "      <th>xXx (2002)</th>\n",
              "      <th>xXx: State of the Union (2005)</th>\n",
              "      <th>¡Three Amigos! (1986)</th>\n",
              "      <th>À nous la liberté (Freedom for Us) (1931)</th>\n",
              "    </tr>\n",
              "    <tr>\n",
              "      <th>userId</th>\n",
              "      <th></th>\n",
              "      <th></th>\n",
              "      <th></th>\n",
              "      <th></th>\n",
              "      <th></th>\n",
              "      <th></th>\n",
              "      <th></th>\n",
              "      <th></th>\n",
              "      <th></th>\n",
              "      <th></th>\n",
              "      <th></th>\n",
              "      <th></th>\n",
              "      <th></th>\n",
              "      <th></th>\n",
              "      <th></th>\n",
              "      <th></th>\n",
              "      <th></th>\n",
              "      <th></th>\n",
              "      <th></th>\n",
              "      <th></th>\n",
              "      <th></th>\n",
              "      <th></th>\n",
              "      <th></th>\n",
              "      <th></th>\n",
              "      <th></th>\n",
              "      <th></th>\n",
              "      <th></th>\n",
              "      <th></th>\n",
              "      <th></th>\n",
              "      <th></th>\n",
              "      <th></th>\n",
              "      <th></th>\n",
              "      <th></th>\n",
              "      <th></th>\n",
              "      <th></th>\n",
              "      <th></th>\n",
              "      <th></th>\n",
              "      <th></th>\n",
              "      <th></th>\n",
              "      <th></th>\n",
              "      <th></th>\n",
              "      <th></th>\n",
              "      <th></th>\n",
              "      <th></th>\n",
              "      <th></th>\n",
              "      <th></th>\n",
              "      <th></th>\n",
              "      <th></th>\n",
              "      <th></th>\n",
              "      <th></th>\n",
              "      <th></th>\n",
              "      <th></th>\n",
              "      <th></th>\n",
              "      <th></th>\n",
              "      <th></th>\n",
              "      <th></th>\n",
              "      <th></th>\n",
              "      <th></th>\n",
              "      <th></th>\n",
              "      <th></th>\n",
              "      <th></th>\n",
              "      <th></th>\n",
              "      <th></th>\n",
              "      <th></th>\n",
              "      <th></th>\n",
              "      <th></th>\n",
              "      <th></th>\n",
              "      <th></th>\n",
              "      <th></th>\n",
              "      <th></th>\n",
              "      <th></th>\n",
              "      <th></th>\n",
              "      <th></th>\n",
              "      <th></th>\n",
              "      <th></th>\n",
              "      <th></th>\n",
              "      <th></th>\n",
              "      <th></th>\n",
              "      <th></th>\n",
              "      <th></th>\n",
              "      <th></th>\n",
              "    </tr>\n",
              "  </thead>\n",
              "  <tbody>\n",
              "    <tr>\n",
              "      <th>1</th>\n",
              "      <td>NaN</td>\n",
              "      <td>NaN</td>\n",
              "      <td>NaN</td>\n",
              "      <td>NaN</td>\n",
              "      <td>NaN</td>\n",
              "      <td>NaN</td>\n",
              "      <td>NaN</td>\n",
              "      <td>NaN</td>\n",
              "      <td>NaN</td>\n",
              "      <td>NaN</td>\n",
              "      <td>NaN</td>\n",
              "      <td>NaN</td>\n",
              "      <td>NaN</td>\n",
              "      <td>NaN</td>\n",
              "      <td>NaN</td>\n",
              "      <td>NaN</td>\n",
              "      <td>NaN</td>\n",
              "      <td>NaN</td>\n",
              "      <td>NaN</td>\n",
              "      <td>NaN</td>\n",
              "      <td>NaN</td>\n",
              "      <td>NaN</td>\n",
              "      <td>NaN</td>\n",
              "      <td>NaN</td>\n",
              "      <td>NaN</td>\n",
              "      <td>NaN</td>\n",
              "      <td>NaN</td>\n",
              "      <td>NaN</td>\n",
              "      <td>NaN</td>\n",
              "      <td>NaN</td>\n",
              "      <td>NaN</td>\n",
              "      <td>NaN</td>\n",
              "      <td>NaN</td>\n",
              "      <td>NaN</td>\n",
              "      <td>NaN</td>\n",
              "      <td>NaN</td>\n",
              "      <td>NaN</td>\n",
              "      <td>NaN</td>\n",
              "      <td>NaN</td>\n",
              "      <td>NaN</td>\n",
              "      <td>...</td>\n",
              "      <td>NaN</td>\n",
              "      <td>NaN</td>\n",
              "      <td>NaN</td>\n",
              "      <td>NaN</td>\n",
              "      <td>NaN</td>\n",
              "      <td>NaN</td>\n",
              "      <td>NaN</td>\n",
              "      <td>NaN</td>\n",
              "      <td>NaN</td>\n",
              "      <td>NaN</td>\n",
              "      <td>NaN</td>\n",
              "      <td>NaN</td>\n",
              "      <td>NaN</td>\n",
              "      <td>NaN</td>\n",
              "      <td>NaN</td>\n",
              "      <td>NaN</td>\n",
              "      <td>NaN</td>\n",
              "      <td>NaN</td>\n",
              "      <td>NaN</td>\n",
              "      <td>NaN</td>\n",
              "      <td>NaN</td>\n",
              "      <td>NaN</td>\n",
              "      <td>NaN</td>\n",
              "      <td>NaN</td>\n",
              "      <td>NaN</td>\n",
              "      <td>NaN</td>\n",
              "      <td>NaN</td>\n",
              "      <td>NaN</td>\n",
              "      <td>NaN</td>\n",
              "      <td>NaN</td>\n",
              "      <td>NaN</td>\n",
              "      <td>NaN</td>\n",
              "      <td>NaN</td>\n",
              "      <td>NaN</td>\n",
              "      <td>NaN</td>\n",
              "      <td>NaN</td>\n",
              "      <td>NaN</td>\n",
              "      <td>NaN</td>\n",
              "      <td>4.0</td>\n",
              "      <td>NaN</td>\n",
              "    </tr>\n",
              "    <tr>\n",
              "      <th>2</th>\n",
              "      <td>NaN</td>\n",
              "      <td>NaN</td>\n",
              "      <td>NaN</td>\n",
              "      <td>NaN</td>\n",
              "      <td>NaN</td>\n",
              "      <td>NaN</td>\n",
              "      <td>NaN</td>\n",
              "      <td>NaN</td>\n",
              "      <td>NaN</td>\n",
              "      <td>NaN</td>\n",
              "      <td>NaN</td>\n",
              "      <td>NaN</td>\n",
              "      <td>NaN</td>\n",
              "      <td>NaN</td>\n",
              "      <td>NaN</td>\n",
              "      <td>NaN</td>\n",
              "      <td>NaN</td>\n",
              "      <td>NaN</td>\n",
              "      <td>NaN</td>\n",
              "      <td>NaN</td>\n",
              "      <td>NaN</td>\n",
              "      <td>NaN</td>\n",
              "      <td>NaN</td>\n",
              "      <td>NaN</td>\n",
              "      <td>NaN</td>\n",
              "      <td>NaN</td>\n",
              "      <td>NaN</td>\n",
              "      <td>NaN</td>\n",
              "      <td>NaN</td>\n",
              "      <td>NaN</td>\n",
              "      <td>NaN</td>\n",
              "      <td>NaN</td>\n",
              "      <td>NaN</td>\n",
              "      <td>NaN</td>\n",
              "      <td>NaN</td>\n",
              "      <td>NaN</td>\n",
              "      <td>NaN</td>\n",
              "      <td>NaN</td>\n",
              "      <td>NaN</td>\n",
              "      <td>NaN</td>\n",
              "      <td>...</td>\n",
              "      <td>NaN</td>\n",
              "      <td>NaN</td>\n",
              "      <td>NaN</td>\n",
              "      <td>NaN</td>\n",
              "      <td>NaN</td>\n",
              "      <td>NaN</td>\n",
              "      <td>NaN</td>\n",
              "      <td>NaN</td>\n",
              "      <td>NaN</td>\n",
              "      <td>NaN</td>\n",
              "      <td>NaN</td>\n",
              "      <td>NaN</td>\n",
              "      <td>NaN</td>\n",
              "      <td>NaN</td>\n",
              "      <td>NaN</td>\n",
              "      <td>NaN</td>\n",
              "      <td>NaN</td>\n",
              "      <td>NaN</td>\n",
              "      <td>NaN</td>\n",
              "      <td>NaN</td>\n",
              "      <td>3.0</td>\n",
              "      <td>NaN</td>\n",
              "      <td>NaN</td>\n",
              "      <td>NaN</td>\n",
              "      <td>NaN</td>\n",
              "      <td>NaN</td>\n",
              "      <td>NaN</td>\n",
              "      <td>NaN</td>\n",
              "      <td>NaN</td>\n",
              "      <td>NaN</td>\n",
              "      <td>NaN</td>\n",
              "      <td>NaN</td>\n",
              "      <td>NaN</td>\n",
              "      <td>NaN</td>\n",
              "      <td>NaN</td>\n",
              "      <td>NaN</td>\n",
              "      <td>NaN</td>\n",
              "      <td>NaN</td>\n",
              "      <td>NaN</td>\n",
              "      <td>NaN</td>\n",
              "    </tr>\n",
              "    <tr>\n",
              "      <th>3</th>\n",
              "      <td>NaN</td>\n",
              "      <td>NaN</td>\n",
              "      <td>NaN</td>\n",
              "      <td>NaN</td>\n",
              "      <td>NaN</td>\n",
              "      <td>NaN</td>\n",
              "      <td>NaN</td>\n",
              "      <td>NaN</td>\n",
              "      <td>NaN</td>\n",
              "      <td>NaN</td>\n",
              "      <td>NaN</td>\n",
              "      <td>NaN</td>\n",
              "      <td>NaN</td>\n",
              "      <td>NaN</td>\n",
              "      <td>NaN</td>\n",
              "      <td>NaN</td>\n",
              "      <td>NaN</td>\n",
              "      <td>NaN</td>\n",
              "      <td>NaN</td>\n",
              "      <td>NaN</td>\n",
              "      <td>NaN</td>\n",
              "      <td>NaN</td>\n",
              "      <td>NaN</td>\n",
              "      <td>NaN</td>\n",
              "      <td>NaN</td>\n",
              "      <td>NaN</td>\n",
              "      <td>NaN</td>\n",
              "      <td>NaN</td>\n",
              "      <td>NaN</td>\n",
              "      <td>NaN</td>\n",
              "      <td>NaN</td>\n",
              "      <td>NaN</td>\n",
              "      <td>NaN</td>\n",
              "      <td>NaN</td>\n",
              "      <td>NaN</td>\n",
              "      <td>NaN</td>\n",
              "      <td>NaN</td>\n",
              "      <td>NaN</td>\n",
              "      <td>NaN</td>\n",
              "      <td>NaN</td>\n",
              "      <td>...</td>\n",
              "      <td>NaN</td>\n",
              "      <td>NaN</td>\n",
              "      <td>NaN</td>\n",
              "      <td>NaN</td>\n",
              "      <td>NaN</td>\n",
              "      <td>NaN</td>\n",
              "      <td>NaN</td>\n",
              "      <td>NaN</td>\n",
              "      <td>NaN</td>\n",
              "      <td>NaN</td>\n",
              "      <td>NaN</td>\n",
              "      <td>NaN</td>\n",
              "      <td>NaN</td>\n",
              "      <td>NaN</td>\n",
              "      <td>NaN</td>\n",
              "      <td>NaN</td>\n",
              "      <td>NaN</td>\n",
              "      <td>NaN</td>\n",
              "      <td>NaN</td>\n",
              "      <td>NaN</td>\n",
              "      <td>NaN</td>\n",
              "      <td>NaN</td>\n",
              "      <td>NaN</td>\n",
              "      <td>NaN</td>\n",
              "      <td>NaN</td>\n",
              "      <td>NaN</td>\n",
              "      <td>NaN</td>\n",
              "      <td>NaN</td>\n",
              "      <td>NaN</td>\n",
              "      <td>NaN</td>\n",
              "      <td>NaN</td>\n",
              "      <td>NaN</td>\n",
              "      <td>NaN</td>\n",
              "      <td>NaN</td>\n",
              "      <td>NaN</td>\n",
              "      <td>NaN</td>\n",
              "      <td>NaN</td>\n",
              "      <td>NaN</td>\n",
              "      <td>NaN</td>\n",
              "      <td>NaN</td>\n",
              "    </tr>\n",
              "    <tr>\n",
              "      <th>4</th>\n",
              "      <td>NaN</td>\n",
              "      <td>NaN</td>\n",
              "      <td>NaN</td>\n",
              "      <td>NaN</td>\n",
              "      <td>NaN</td>\n",
              "      <td>NaN</td>\n",
              "      <td>NaN</td>\n",
              "      <td>NaN</td>\n",
              "      <td>NaN</td>\n",
              "      <td>NaN</td>\n",
              "      <td>NaN</td>\n",
              "      <td>NaN</td>\n",
              "      <td>NaN</td>\n",
              "      <td>NaN</td>\n",
              "      <td>NaN</td>\n",
              "      <td>NaN</td>\n",
              "      <td>NaN</td>\n",
              "      <td>NaN</td>\n",
              "      <td>NaN</td>\n",
              "      <td>NaN</td>\n",
              "      <td>NaN</td>\n",
              "      <td>NaN</td>\n",
              "      <td>NaN</td>\n",
              "      <td>NaN</td>\n",
              "      <td>NaN</td>\n",
              "      <td>NaN</td>\n",
              "      <td>NaN</td>\n",
              "      <td>NaN</td>\n",
              "      <td>NaN</td>\n",
              "      <td>NaN</td>\n",
              "      <td>NaN</td>\n",
              "      <td>NaN</td>\n",
              "      <td>NaN</td>\n",
              "      <td>NaN</td>\n",
              "      <td>5.0</td>\n",
              "      <td>NaN</td>\n",
              "      <td>NaN</td>\n",
              "      <td>NaN</td>\n",
              "      <td>NaN</td>\n",
              "      <td>NaN</td>\n",
              "      <td>...</td>\n",
              "      <td>NaN</td>\n",
              "      <td>NaN</td>\n",
              "      <td>NaN</td>\n",
              "      <td>NaN</td>\n",
              "      <td>NaN</td>\n",
              "      <td>NaN</td>\n",
              "      <td>NaN</td>\n",
              "      <td>NaN</td>\n",
              "      <td>NaN</td>\n",
              "      <td>NaN</td>\n",
              "      <td>NaN</td>\n",
              "      <td>NaN</td>\n",
              "      <td>NaN</td>\n",
              "      <td>NaN</td>\n",
              "      <td>NaN</td>\n",
              "      <td>NaN</td>\n",
              "      <td>NaN</td>\n",
              "      <td>NaN</td>\n",
              "      <td>NaN</td>\n",
              "      <td>NaN</td>\n",
              "      <td>NaN</td>\n",
              "      <td>NaN</td>\n",
              "      <td>NaN</td>\n",
              "      <td>NaN</td>\n",
              "      <td>NaN</td>\n",
              "      <td>NaN</td>\n",
              "      <td>NaN</td>\n",
              "      <td>NaN</td>\n",
              "      <td>NaN</td>\n",
              "      <td>NaN</td>\n",
              "      <td>NaN</td>\n",
              "      <td>NaN</td>\n",
              "      <td>NaN</td>\n",
              "      <td>NaN</td>\n",
              "      <td>NaN</td>\n",
              "      <td>NaN</td>\n",
              "      <td>NaN</td>\n",
              "      <td>NaN</td>\n",
              "      <td>NaN</td>\n",
              "      <td>NaN</td>\n",
              "    </tr>\n",
              "    <tr>\n",
              "      <th>5</th>\n",
              "      <td>NaN</td>\n",
              "      <td>NaN</td>\n",
              "      <td>NaN</td>\n",
              "      <td>NaN</td>\n",
              "      <td>NaN</td>\n",
              "      <td>NaN</td>\n",
              "      <td>NaN</td>\n",
              "      <td>NaN</td>\n",
              "      <td>NaN</td>\n",
              "      <td>NaN</td>\n",
              "      <td>NaN</td>\n",
              "      <td>NaN</td>\n",
              "      <td>NaN</td>\n",
              "      <td>NaN</td>\n",
              "      <td>NaN</td>\n",
              "      <td>NaN</td>\n",
              "      <td>NaN</td>\n",
              "      <td>NaN</td>\n",
              "      <td>NaN</td>\n",
              "      <td>NaN</td>\n",
              "      <td>NaN</td>\n",
              "      <td>NaN</td>\n",
              "      <td>NaN</td>\n",
              "      <td>NaN</td>\n",
              "      <td>NaN</td>\n",
              "      <td>NaN</td>\n",
              "      <td>NaN</td>\n",
              "      <td>NaN</td>\n",
              "      <td>NaN</td>\n",
              "      <td>NaN</td>\n",
              "      <td>NaN</td>\n",
              "      <td>NaN</td>\n",
              "      <td>NaN</td>\n",
              "      <td>NaN</td>\n",
              "      <td>NaN</td>\n",
              "      <td>NaN</td>\n",
              "      <td>NaN</td>\n",
              "      <td>NaN</td>\n",
              "      <td>NaN</td>\n",
              "      <td>NaN</td>\n",
              "      <td>...</td>\n",
              "      <td>NaN</td>\n",
              "      <td>NaN</td>\n",
              "      <td>NaN</td>\n",
              "      <td>NaN</td>\n",
              "      <td>NaN</td>\n",
              "      <td>NaN</td>\n",
              "      <td>NaN</td>\n",
              "      <td>NaN</td>\n",
              "      <td>NaN</td>\n",
              "      <td>NaN</td>\n",
              "      <td>NaN</td>\n",
              "      <td>NaN</td>\n",
              "      <td>NaN</td>\n",
              "      <td>NaN</td>\n",
              "      <td>NaN</td>\n",
              "      <td>NaN</td>\n",
              "      <td>NaN</td>\n",
              "      <td>NaN</td>\n",
              "      <td>NaN</td>\n",
              "      <td>NaN</td>\n",
              "      <td>NaN</td>\n",
              "      <td>NaN</td>\n",
              "      <td>NaN</td>\n",
              "      <td>NaN</td>\n",
              "      <td>NaN</td>\n",
              "      <td>NaN</td>\n",
              "      <td>NaN</td>\n",
              "      <td>NaN</td>\n",
              "      <td>NaN</td>\n",
              "      <td>NaN</td>\n",
              "      <td>NaN</td>\n",
              "      <td>NaN</td>\n",
              "      <td>NaN</td>\n",
              "      <td>NaN</td>\n",
              "      <td>NaN</td>\n",
              "      <td>NaN</td>\n",
              "      <td>NaN</td>\n",
              "      <td>NaN</td>\n",
              "      <td>NaN</td>\n",
              "      <td>NaN</td>\n",
              "    </tr>\n",
              "  </tbody>\n",
              "</table>\n",
              "<p>5 rows × 9719 columns</p>\n",
              "</div>"
            ],
            "text/plain": [
              "title   '71 (2014)  ...  À nous la liberté (Freedom for Us) (1931)\n",
              "userId              ...                                           \n",
              "1              NaN  ...                                        NaN\n",
              "2              NaN  ...                                        NaN\n",
              "3              NaN  ...                                        NaN\n",
              "4              NaN  ...                                        NaN\n",
              "5              NaN  ...                                        NaN\n",
              "\n",
              "[5 rows x 9719 columns]"
            ]
          },
          "metadata": {
            "tags": []
          },
          "execution_count": 50
        }
      ]
    },
    {
      "cell_type": "code",
      "metadata": {
        "id": "bREz7vl8A7xk"
      },
      "source": [
        "# this matrix has a lot of null values since not every movie is rated by every user.\n",
        "\n",
        "# each column contains all the user ratings for a particular movie"
      ],
      "execution_count": null,
      "outputs": []
    },
    {
      "cell_type": "code",
      "metadata": {
        "id": "1Sn02KwzB8Om",
        "colab": {
          "base_uri": "https://localhost:8080/"
        },
        "outputId": "03d6856d-0017-42d6-bbcc-3a907d497794"
      },
      "source": [
        "forrest_gump_ratings = user_movie_rating['Forrest Gump (1994)']\n",
        "forrest_gump_ratings.head()"
      ],
      "execution_count": null,
      "outputs": [
        {
          "output_type": "execute_result",
          "data": {
            "text/plain": [
              "userId\n",
              "1    4.0\n",
              "2    NaN\n",
              "3    NaN\n",
              "4    NaN\n",
              "5    NaN\n",
              "Name: Forrest Gump (1994), dtype: float64"
            ]
          },
          "metadata": {
            "tags": []
          },
          "execution_count": 52
        }
      ]
    },
    {
      "cell_type": "code",
      "metadata": {
        "id": "FXdsu8sWFpme",
        "colab": {
          "base_uri": "https://localhost:8080/"
        },
        "outputId": "fc63617c-7e47-48dc-b253-f91b936fd94b"
      },
      "source": [
        "shawshank_ratings = user_movie_rating['Shawshank Redemption, The (1994)']\n",
        "shawshank_ratings.head()\n"
      ],
      "execution_count": null,
      "outputs": [
        {
          "output_type": "execute_result",
          "data": {
            "text/plain": [
              "userId\n",
              "1    NaN\n",
              "2    3.0\n",
              "3    NaN\n",
              "4    NaN\n",
              "5    3.0\n",
              "Name: Shawshank Redemption, The (1994), dtype: float64"
            ]
          },
          "metadata": {
            "tags": []
          },
          "execution_count": 53
        }
      ]
    },
    {
      "cell_type": "code",
      "metadata": {
        "id": "rqgWd7utGEJQ",
        "colab": {
          "base_uri": "https://localhost:8080/"
        },
        "outputId": "46fdf9e5-60a5-4a36-c4d0-4c6736cc9c90"
      },
      "source": [
        "# Now let's retrieve all the movies that are similar to \"Shawshank Redemption, The (1994)\"\n",
        "\n",
        "movies_like_shawshank = user_movie_rating.corrwith(shawshank_ratings)\n",
        "\n",
        "corr_shawshank = pd.DataFrame(movies_like_shawshank, columns=['Correlation'])\n",
        "corr_shawshank.dropna(inplace=True)\n",
        "corr_shawshank.head()\n"
      ],
      "execution_count": null,
      "outputs": [
        {
          "output_type": "stream",
          "text": [
            "/usr/local/lib/python3.6/dist-packages/numpy/lib/function_base.py:2526: RuntimeWarning: Degrees of freedom <= 0 for slice\n",
            "  c = cov(x, y, rowvar)\n",
            "/usr/local/lib/python3.6/dist-packages/numpy/lib/function_base.py:2455: RuntimeWarning: divide by zero encountered in true_divide\n",
            "  c *= np.true_divide(1, fact)\n"
          ],
          "name": "stderr"
        },
        {
          "output_type": "execute_result",
          "data": {
            "text/html": [
              "<div>\n",
              "<style scoped>\n",
              "    .dataframe tbody tr th:only-of-type {\n",
              "        vertical-align: middle;\n",
              "    }\n",
              "\n",
              "    .dataframe tbody tr th {\n",
              "        vertical-align: top;\n",
              "    }\n",
              "\n",
              "    .dataframe thead th {\n",
              "        text-align: right;\n",
              "    }\n",
              "</style>\n",
              "<table border=\"1\" class=\"dataframe\">\n",
              "  <thead>\n",
              "    <tr style=\"text-align: right;\">\n",
              "      <th></th>\n",
              "      <th>Correlation</th>\n",
              "    </tr>\n",
              "    <tr>\n",
              "      <th>title</th>\n",
              "      <th></th>\n",
              "    </tr>\n",
              "  </thead>\n",
              "  <tbody>\n",
              "    <tr>\n",
              "      <th>'burbs, The (1989)</th>\n",
              "      <td>0.419543</td>\n",
              "    </tr>\n",
              "    <tr>\n",
              "      <th>(500) Days of Summer (2009)</th>\n",
              "      <td>0.249580</td>\n",
              "    </tr>\n",
              "    <tr>\n",
              "      <th>*batteries not included (1987)</th>\n",
              "      <td>0.404520</td>\n",
              "    </tr>\n",
              "    <tr>\n",
              "      <th>...And Justice for All (1979)</th>\n",
              "      <td>-1.000000</td>\n",
              "    </tr>\n",
              "    <tr>\n",
              "      <th>10 Cloverfield Lane (2016)</th>\n",
              "      <td>0.145671</td>\n",
              "    </tr>\n",
              "  </tbody>\n",
              "</table>\n",
              "</div>"
            ],
            "text/plain": [
              "                                Correlation\n",
              "title                                      \n",
              "'burbs, The (1989)                 0.419543\n",
              "(500) Days of Summer (2009)        0.249580\n",
              "*batteries not included (1987)     0.404520\n",
              "...And Justice for All (1979)     -1.000000\n",
              "10 Cloverfield Lane (2016)         0.145671"
            ]
          },
          "metadata": {
            "tags": []
          },
          "execution_count": 54
        }
      ]
    },
    {
      "cell_type": "code",
      "metadata": {
        "id": "JJJnr2O4GeAj",
        "colab": {
          "base_uri": "https://localhost:8080/"
        },
        "outputId": "17ae1ded-2f22-4445-9fec-b1d7e7899011"
      },
      "source": [
        "corr_shawshank.sort_values('Correlation', ascending=False).head()"
      ],
      "execution_count": null,
      "outputs": [
        {
          "output_type": "execute_result",
          "data": {
            "text/html": [
              "<div>\n",
              "<style scoped>\n",
              "    .dataframe tbody tr th:only-of-type {\n",
              "        vertical-align: middle;\n",
              "    }\n",
              "\n",
              "    .dataframe tbody tr th {\n",
              "        vertical-align: top;\n",
              "    }\n",
              "\n",
              "    .dataframe thead th {\n",
              "        text-align: right;\n",
              "    }\n",
              "</style>\n",
              "<table border=\"1\" class=\"dataframe\">\n",
              "  <thead>\n",
              "    <tr style=\"text-align: right;\">\n",
              "      <th></th>\n",
              "      <th>Correlation</th>\n",
              "    </tr>\n",
              "    <tr>\n",
              "      <th>title</th>\n",
              "      <th></th>\n",
              "    </tr>\n",
              "  </thead>\n",
              "  <tbody>\n",
              "    <tr>\n",
              "      <th>Principal, The (1987)</th>\n",
              "      <td>1.0</td>\n",
              "    </tr>\n",
              "    <tr>\n",
              "      <th>Chi-Raq (2015)</th>\n",
              "      <td>1.0</td>\n",
              "    </tr>\n",
              "    <tr>\n",
              "      <th>Rififi (Du rififi chez les hommes) (1955)</th>\n",
              "      <td>1.0</td>\n",
              "    </tr>\n",
              "    <tr>\n",
              "      <th>Robot &amp; Frank (2012)</th>\n",
              "      <td>1.0</td>\n",
              "    </tr>\n",
              "    <tr>\n",
              "      <th>Rock Star (2001)</th>\n",
              "      <td>1.0</td>\n",
              "    </tr>\n",
              "  </tbody>\n",
              "</table>\n",
              "</div>"
            ],
            "text/plain": [
              "                                           Correlation\n",
              "title                                                 \n",
              "Principal, The (1987)                              1.0\n",
              "Chi-Raq (2015)                                     1.0\n",
              "Rififi (Du rififi chez les hommes) (1955)          1.0\n",
              "Robot & Frank (2012)                               1.0\n",
              "Rock Star (2001)                                   1.0"
            ]
          },
          "metadata": {
            "tags": []
          },
          "execution_count": 55
        }
      ]
    },
    {
      "cell_type": "code",
      "metadata": {
        "id": "5_mzJNx8HDux"
      },
      "source": [
        "# the movies that have high correlation with \"Forrest Gump (1994)\" are not very well known\n",
        "\n",
        "# correlation alone is not a good metric for similarity because there can be a user who watched \n",
        "# \"Shawshank Redemption, The (1994)\" and only one other movie and rated both of them as 5.\n",
        "\n",
        "# A solution is to retrieve only those correlated movies that have at least more than 50 ratings"
      ],
      "execution_count": null,
      "outputs": []
    },
    {
      "cell_type": "code",
      "metadata": {
        "id": "D7BdZ871Hc0K",
        "colab": {
          "base_uri": "https://localhost:8080/"
        },
        "outputId": "a16f37bb-25ca-4d06-9ccb-d61d8864e052"
      },
      "source": [
        "# we'll add the rating_counts column from the rating_mean_count dataframe to our corr_shawshank dataframe\n",
        "\n",
        "corr_shawshank2 = pd.concat([corr_shawshank,ratings_mean_count['rating_counts']], axis=1)\n",
        "corr_shawshank2.head()"
      ],
      "execution_count": null,
      "outputs": [
        {
          "output_type": "execute_result",
          "data": {
            "text/html": [
              "<div>\n",
              "<style scoped>\n",
              "    .dataframe tbody tr th:only-of-type {\n",
              "        vertical-align: middle;\n",
              "    }\n",
              "\n",
              "    .dataframe tbody tr th {\n",
              "        vertical-align: top;\n",
              "    }\n",
              "\n",
              "    .dataframe thead th {\n",
              "        text-align: right;\n",
              "    }\n",
              "</style>\n",
              "<table border=\"1\" class=\"dataframe\">\n",
              "  <thead>\n",
              "    <tr style=\"text-align: right;\">\n",
              "      <th></th>\n",
              "      <th>Correlation</th>\n",
              "      <th>rating_counts</th>\n",
              "    </tr>\n",
              "  </thead>\n",
              "  <tbody>\n",
              "    <tr>\n",
              "      <th>'burbs, The (1989)</th>\n",
              "      <td>0.419543</td>\n",
              "      <td>17</td>\n",
              "    </tr>\n",
              "    <tr>\n",
              "      <th>(500) Days of Summer (2009)</th>\n",
              "      <td>0.249580</td>\n",
              "      <td>42</td>\n",
              "    </tr>\n",
              "    <tr>\n",
              "      <th>*batteries not included (1987)</th>\n",
              "      <td>0.404520</td>\n",
              "      <td>7</td>\n",
              "    </tr>\n",
              "    <tr>\n",
              "      <th>...And Justice for All (1979)</th>\n",
              "      <td>-1.000000</td>\n",
              "      <td>3</td>\n",
              "    </tr>\n",
              "    <tr>\n",
              "      <th>10 Cloverfield Lane (2016)</th>\n",
              "      <td>0.145671</td>\n",
              "      <td>14</td>\n",
              "    </tr>\n",
              "  </tbody>\n",
              "</table>\n",
              "</div>"
            ],
            "text/plain": [
              "                                Correlation  rating_counts\n",
              "'burbs, The (1989)                 0.419543             17\n",
              "(500) Days of Summer (2009)        0.249580             42\n",
              "*batteries not included (1987)     0.404520              7\n",
              "...And Justice for All (1979)     -1.000000              3\n",
              "10 Cloverfield Lane (2016)         0.145671             14"
            ]
          },
          "metadata": {
            "tags": []
          },
          "execution_count": 57
        }
      ]
    },
    {
      "cell_type": "code",
      "metadata": {
        "id": "LRiEqAlZH6by",
        "colab": {
          "base_uri": "https://localhost:8080/"
        },
        "outputId": "bd128bb3-6424-47c1-ea5e-2e6947a08d19"
      },
      "source": [
        "corr_shawshank2.loc[corr_shawshank2['rating_counts']>50].sort_values('Correlation', ascending=False)[1:6]\n",
        "\n"
      ],
      "execution_count": null,
      "outputs": [
        {
          "output_type": "execute_result",
          "data": {
            "text/html": [
              "<div>\n",
              "<style scoped>\n",
              "    .dataframe tbody tr th:only-of-type {\n",
              "        vertical-align: middle;\n",
              "    }\n",
              "\n",
              "    .dataframe tbody tr th {\n",
              "        vertical-align: top;\n",
              "    }\n",
              "\n",
              "    .dataframe thead th {\n",
              "        text-align: right;\n",
              "    }\n",
              "</style>\n",
              "<table border=\"1\" class=\"dataframe\">\n",
              "  <thead>\n",
              "    <tr style=\"text-align: right;\">\n",
              "      <th></th>\n",
              "      <th>Correlation</th>\n",
              "      <th>rating_counts</th>\n",
              "    </tr>\n",
              "  </thead>\n",
              "  <tbody>\n",
              "    <tr>\n",
              "      <th>Rear Window (1954)</th>\n",
              "      <td>0.545149</td>\n",
              "      <td>84</td>\n",
              "    </tr>\n",
              "    <tr>\n",
              "      <th>My Cousin Vinny (1992)</th>\n",
              "      <td>0.523016</td>\n",
              "      <td>59</td>\n",
              "    </tr>\n",
              "    <tr>\n",
              "      <th>Bad Boys (1995)</th>\n",
              "      <td>0.516762</td>\n",
              "      <td>51</td>\n",
              "    </tr>\n",
              "    <tr>\n",
              "      <th>City of God (Cidade de Deus) (2002)</th>\n",
              "      <td>0.486670</td>\n",
              "      <td>75</td>\n",
              "    </tr>\n",
              "    <tr>\n",
              "      <th>Christmas Story, A (1983)</th>\n",
              "      <td>0.475801</td>\n",
              "      <td>55</td>\n",
              "    </tr>\n",
              "  </tbody>\n",
              "</table>\n",
              "</div>"
            ],
            "text/plain": [
              "                                     Correlation  rating_counts\n",
              "Rear Window (1954)                      0.545149             84\n",
              "My Cousin Vinny (1992)                  0.523016             59\n",
              "Bad Boys (1995)                         0.516762             51\n",
              "City of God (Cidade de Deus) (2002)     0.486670             75\n",
              "Christmas Story, A (1983)               0.475801             55"
            ]
          },
          "metadata": {
            "tags": []
          },
          "execution_count": 58
        }
      ]
    },
    {
      "cell_type": "markdown",
      "metadata": {
        "id": "wYkNVmds5AHz"
      },
      "source": [
        "# TESTS: (Not used) \"Dummify\": splitting genres"
      ]
    },
    {
      "cell_type": "code",
      "metadata": {
        "id": "42tK21nZUWdH",
        "colab": {
          "base_uri": "https://localhost:8080/"
        },
        "outputId": "4982f3f7-0e77-400a-9058-438c39df5868"
      },
      "source": [
        "movie_new = pd.DataFrame(movie['genres'].str.split(\"|\").tolist(),index=movie['title']).stack()\n",
        "new_table = movie_new.reset_index([0, 'title'])\n",
        "new_table\n",
        "\n",
        "new_table.columns = ['title', 'genres']\n",
        "new_table.head()"
      ],
      "execution_count": null,
      "outputs": [
        {
          "output_type": "execute_result",
          "data": {
            "text/html": [
              "<div>\n",
              "<style scoped>\n",
              "    .dataframe tbody tr th:only-of-type {\n",
              "        vertical-align: middle;\n",
              "    }\n",
              "\n",
              "    .dataframe tbody tr th {\n",
              "        vertical-align: top;\n",
              "    }\n",
              "\n",
              "    .dataframe thead th {\n",
              "        text-align: right;\n",
              "    }\n",
              "</style>\n",
              "<table border=\"1\" class=\"dataframe\">\n",
              "  <thead>\n",
              "    <tr style=\"text-align: right;\">\n",
              "      <th></th>\n",
              "      <th>title</th>\n",
              "      <th>genres</th>\n",
              "    </tr>\n",
              "  </thead>\n",
              "  <tbody>\n",
              "    <tr>\n",
              "      <th>0</th>\n",
              "      <td>Toy Story (1995)</td>\n",
              "      <td>Adventure</td>\n",
              "    </tr>\n",
              "    <tr>\n",
              "      <th>1</th>\n",
              "      <td>Toy Story (1995)</td>\n",
              "      <td>Animation</td>\n",
              "    </tr>\n",
              "    <tr>\n",
              "      <th>2</th>\n",
              "      <td>Toy Story (1995)</td>\n",
              "      <td>Children</td>\n",
              "    </tr>\n",
              "    <tr>\n",
              "      <th>3</th>\n",
              "      <td>Toy Story (1995)</td>\n",
              "      <td>Comedy</td>\n",
              "    </tr>\n",
              "    <tr>\n",
              "      <th>4</th>\n",
              "      <td>Toy Story (1995)</td>\n",
              "      <td>Fantasy</td>\n",
              "    </tr>\n",
              "  </tbody>\n",
              "</table>\n",
              "</div>"
            ],
            "text/plain": [
              "              title     genres\n",
              "0  Toy Story (1995)  Adventure\n",
              "1  Toy Story (1995)  Animation\n",
              "2  Toy Story (1995)   Children\n",
              "3  Toy Story (1995)     Comedy\n",
              "4  Toy Story (1995)    Fantasy"
            ]
          },
          "metadata": {
            "tags": []
          },
          "execution_count": 59
        }
      ]
    },
    {
      "cell_type": "code",
      "metadata": {
        "id": "5TgsxBwdB6_I",
        "colab": {
          "base_uri": "https://localhost:8080/"
        },
        "outputId": "fe54e6a6-b01d-45fd-c9fe-6bc46daff959"
      },
      "source": [
        "dummy_genres = pd.get_dummies(new_table['genres'])\n",
        "dummy_genres.head()"
      ],
      "execution_count": null,
      "outputs": [
        {
          "output_type": "execute_result",
          "data": {
            "text/html": [
              "<div>\n",
              "<style scoped>\n",
              "    .dataframe tbody tr th:only-of-type {\n",
              "        vertical-align: middle;\n",
              "    }\n",
              "\n",
              "    .dataframe tbody tr th {\n",
              "        vertical-align: top;\n",
              "    }\n",
              "\n",
              "    .dataframe thead th {\n",
              "        text-align: right;\n",
              "    }\n",
              "</style>\n",
              "<table border=\"1\" class=\"dataframe\">\n",
              "  <thead>\n",
              "    <tr style=\"text-align: right;\">\n",
              "      <th></th>\n",
              "      <th>(no genres listed)</th>\n",
              "      <th>Action</th>\n",
              "      <th>Adventure</th>\n",
              "      <th>Animation</th>\n",
              "      <th>Children</th>\n",
              "      <th>Comedy</th>\n",
              "      <th>Crime</th>\n",
              "      <th>Documentary</th>\n",
              "      <th>Drama</th>\n",
              "      <th>Fantasy</th>\n",
              "      <th>Film-Noir</th>\n",
              "      <th>Horror</th>\n",
              "      <th>IMAX</th>\n",
              "      <th>Musical</th>\n",
              "      <th>Mystery</th>\n",
              "      <th>Romance</th>\n",
              "      <th>Sci-Fi</th>\n",
              "      <th>Thriller</th>\n",
              "      <th>War</th>\n",
              "      <th>Western</th>\n",
              "    </tr>\n",
              "  </thead>\n",
              "  <tbody>\n",
              "    <tr>\n",
              "      <th>0</th>\n",
              "      <td>0</td>\n",
              "      <td>0</td>\n",
              "      <td>1</td>\n",
              "      <td>0</td>\n",
              "      <td>0</td>\n",
              "      <td>0</td>\n",
              "      <td>0</td>\n",
              "      <td>0</td>\n",
              "      <td>0</td>\n",
              "      <td>0</td>\n",
              "      <td>0</td>\n",
              "      <td>0</td>\n",
              "      <td>0</td>\n",
              "      <td>0</td>\n",
              "      <td>0</td>\n",
              "      <td>0</td>\n",
              "      <td>0</td>\n",
              "      <td>0</td>\n",
              "      <td>0</td>\n",
              "      <td>0</td>\n",
              "    </tr>\n",
              "    <tr>\n",
              "      <th>1</th>\n",
              "      <td>0</td>\n",
              "      <td>0</td>\n",
              "      <td>0</td>\n",
              "      <td>1</td>\n",
              "      <td>0</td>\n",
              "      <td>0</td>\n",
              "      <td>0</td>\n",
              "      <td>0</td>\n",
              "      <td>0</td>\n",
              "      <td>0</td>\n",
              "      <td>0</td>\n",
              "      <td>0</td>\n",
              "      <td>0</td>\n",
              "      <td>0</td>\n",
              "      <td>0</td>\n",
              "      <td>0</td>\n",
              "      <td>0</td>\n",
              "      <td>0</td>\n",
              "      <td>0</td>\n",
              "      <td>0</td>\n",
              "    </tr>\n",
              "    <tr>\n",
              "      <th>2</th>\n",
              "      <td>0</td>\n",
              "      <td>0</td>\n",
              "      <td>0</td>\n",
              "      <td>0</td>\n",
              "      <td>1</td>\n",
              "      <td>0</td>\n",
              "      <td>0</td>\n",
              "      <td>0</td>\n",
              "      <td>0</td>\n",
              "      <td>0</td>\n",
              "      <td>0</td>\n",
              "      <td>0</td>\n",
              "      <td>0</td>\n",
              "      <td>0</td>\n",
              "      <td>0</td>\n",
              "      <td>0</td>\n",
              "      <td>0</td>\n",
              "      <td>0</td>\n",
              "      <td>0</td>\n",
              "      <td>0</td>\n",
              "    </tr>\n",
              "    <tr>\n",
              "      <th>3</th>\n",
              "      <td>0</td>\n",
              "      <td>0</td>\n",
              "      <td>0</td>\n",
              "      <td>0</td>\n",
              "      <td>0</td>\n",
              "      <td>1</td>\n",
              "      <td>0</td>\n",
              "      <td>0</td>\n",
              "      <td>0</td>\n",
              "      <td>0</td>\n",
              "      <td>0</td>\n",
              "      <td>0</td>\n",
              "      <td>0</td>\n",
              "      <td>0</td>\n",
              "      <td>0</td>\n",
              "      <td>0</td>\n",
              "      <td>0</td>\n",
              "      <td>0</td>\n",
              "      <td>0</td>\n",
              "      <td>0</td>\n",
              "    </tr>\n",
              "    <tr>\n",
              "      <th>4</th>\n",
              "      <td>0</td>\n",
              "      <td>0</td>\n",
              "      <td>0</td>\n",
              "      <td>0</td>\n",
              "      <td>0</td>\n",
              "      <td>0</td>\n",
              "      <td>0</td>\n",
              "      <td>0</td>\n",
              "      <td>0</td>\n",
              "      <td>1</td>\n",
              "      <td>0</td>\n",
              "      <td>0</td>\n",
              "      <td>0</td>\n",
              "      <td>0</td>\n",
              "      <td>0</td>\n",
              "      <td>0</td>\n",
              "      <td>0</td>\n",
              "      <td>0</td>\n",
              "      <td>0</td>\n",
              "      <td>0</td>\n",
              "    </tr>\n",
              "  </tbody>\n",
              "</table>\n",
              "</div>"
            ],
            "text/plain": [
              "   (no genres listed)  Action  Adventure  ...  Thriller  War  Western\n",
              "0                   0       0          1  ...         0    0        0\n",
              "1                   0       0          0  ...         0    0        0\n",
              "2                   0       0          0  ...         0    0        0\n",
              "3                   0       0          0  ...         0    0        0\n",
              "4                   0       0          0  ...         0    0        0\n",
              "\n",
              "[5 rows x 20 columns]"
            ]
          },
          "metadata": {
            "tags": []
          },
          "execution_count": 60
        }
      ]
    },
    {
      "cell_type": "markdown",
      "metadata": {
        "id": "myaePeJk6qs3"
      },
      "source": [
        "###### table_dummies: creating a new df with the dummy versions of the genres, and dropping the \"genres\" column and any duplicate titles"
      ]
    },
    {
      "cell_type": "code",
      "metadata": {
        "id": "HWXkMIixCaCh"
      },
      "source": [
        "table_dummies = pd.merge(new_table, dummy_genres, left_index=True,right_index=True)"
      ],
      "execution_count": null,
      "outputs": []
    },
    {
      "cell_type": "code",
      "metadata": {
        "id": "vI1KpcalC5Eh"
      },
      "source": [
        "table_dummies.drop(['genres'], axis=1, inplace=True)"
      ],
      "execution_count": null,
      "outputs": []
    },
    {
      "cell_type": "code",
      "metadata": {
        "id": "K1_WU6ygDatz"
      },
      "source": [
        "table_dummies = table_dummies.drop_duplicates(subset=['title'])"
      ],
      "execution_count": null,
      "outputs": []
    },
    {
      "cell_type": "code",
      "metadata": {
        "id": "ykTB-p7xDk_y",
        "colab": {
          "base_uri": "https://localhost:8080/"
        },
        "outputId": "add4886f-a24b-4aed-bb9f-327ece46e9c2"
      },
      "source": [
        "table_dummies"
      ],
      "execution_count": null,
      "outputs": [
        {
          "output_type": "execute_result",
          "data": {
            "text/html": [
              "<div>\n",
              "<style scoped>\n",
              "    .dataframe tbody tr th:only-of-type {\n",
              "        vertical-align: middle;\n",
              "    }\n",
              "\n",
              "    .dataframe tbody tr th {\n",
              "        vertical-align: top;\n",
              "    }\n",
              "\n",
              "    .dataframe thead th {\n",
              "        text-align: right;\n",
              "    }\n",
              "</style>\n",
              "<table border=\"1\" class=\"dataframe\">\n",
              "  <thead>\n",
              "    <tr style=\"text-align: right;\">\n",
              "      <th></th>\n",
              "      <th>title</th>\n",
              "      <th>(no genres listed)</th>\n",
              "      <th>Action</th>\n",
              "      <th>Adventure</th>\n",
              "      <th>Animation</th>\n",
              "      <th>Children</th>\n",
              "      <th>Comedy</th>\n",
              "      <th>Crime</th>\n",
              "      <th>Documentary</th>\n",
              "      <th>Drama</th>\n",
              "      <th>Fantasy</th>\n",
              "      <th>Film-Noir</th>\n",
              "      <th>Horror</th>\n",
              "      <th>IMAX</th>\n",
              "      <th>Musical</th>\n",
              "      <th>Mystery</th>\n",
              "      <th>Romance</th>\n",
              "      <th>Sci-Fi</th>\n",
              "      <th>Thriller</th>\n",
              "      <th>War</th>\n",
              "      <th>Western</th>\n",
              "    </tr>\n",
              "  </thead>\n",
              "  <tbody>\n",
              "    <tr>\n",
              "      <th>0</th>\n",
              "      <td>Toy Story (1995)</td>\n",
              "      <td>0</td>\n",
              "      <td>0</td>\n",
              "      <td>1</td>\n",
              "      <td>0</td>\n",
              "      <td>0</td>\n",
              "      <td>0</td>\n",
              "      <td>0</td>\n",
              "      <td>0</td>\n",
              "      <td>0</td>\n",
              "      <td>0</td>\n",
              "      <td>0</td>\n",
              "      <td>0</td>\n",
              "      <td>0</td>\n",
              "      <td>0</td>\n",
              "      <td>0</td>\n",
              "      <td>0</td>\n",
              "      <td>0</td>\n",
              "      <td>0</td>\n",
              "      <td>0</td>\n",
              "      <td>0</td>\n",
              "    </tr>\n",
              "    <tr>\n",
              "      <th>1075</th>\n",
              "      <td>Grumpier Old Men (1995)</td>\n",
              "      <td>0</td>\n",
              "      <td>0</td>\n",
              "      <td>0</td>\n",
              "      <td>0</td>\n",
              "      <td>0</td>\n",
              "      <td>1</td>\n",
              "      <td>0</td>\n",
              "      <td>0</td>\n",
              "      <td>0</td>\n",
              "      <td>0</td>\n",
              "      <td>0</td>\n",
              "      <td>0</td>\n",
              "      <td>0</td>\n",
              "      <td>0</td>\n",
              "      <td>0</td>\n",
              "      <td>0</td>\n",
              "      <td>0</td>\n",
              "      <td>0</td>\n",
              "      <td>0</td>\n",
              "      <td>0</td>\n",
              "    </tr>\n",
              "    <tr>\n",
              "      <th>1179</th>\n",
              "      <td>Heat (1995)</td>\n",
              "      <td>0</td>\n",
              "      <td>1</td>\n",
              "      <td>0</td>\n",
              "      <td>0</td>\n",
              "      <td>0</td>\n",
              "      <td>0</td>\n",
              "      <td>0</td>\n",
              "      <td>0</td>\n",
              "      <td>0</td>\n",
              "      <td>0</td>\n",
              "      <td>0</td>\n",
              "      <td>0</td>\n",
              "      <td>0</td>\n",
              "      <td>0</td>\n",
              "      <td>0</td>\n",
              "      <td>0</td>\n",
              "      <td>0</td>\n",
              "      <td>0</td>\n",
              "      <td>0</td>\n",
              "      <td>0</td>\n",
              "    </tr>\n",
              "    <tr>\n",
              "      <th>1485</th>\n",
              "      <td>Seven (a.k.a. Se7en) (1995)</td>\n",
              "      <td>0</td>\n",
              "      <td>0</td>\n",
              "      <td>0</td>\n",
              "      <td>0</td>\n",
              "      <td>0</td>\n",
              "      <td>0</td>\n",
              "      <td>0</td>\n",
              "      <td>0</td>\n",
              "      <td>0</td>\n",
              "      <td>0</td>\n",
              "      <td>0</td>\n",
              "      <td>0</td>\n",
              "      <td>0</td>\n",
              "      <td>0</td>\n",
              "      <td>1</td>\n",
              "      <td>0</td>\n",
              "      <td>0</td>\n",
              "      <td>0</td>\n",
              "      <td>0</td>\n",
              "      <td>0</td>\n",
              "    </tr>\n",
              "    <tr>\n",
              "      <th>1891</th>\n",
              "      <td>Usual Suspects, The (1995)</td>\n",
              "      <td>0</td>\n",
              "      <td>0</td>\n",
              "      <td>0</td>\n",
              "      <td>0</td>\n",
              "      <td>0</td>\n",
              "      <td>0</td>\n",
              "      <td>1</td>\n",
              "      <td>0</td>\n",
              "      <td>0</td>\n",
              "      <td>0</td>\n",
              "      <td>0</td>\n",
              "      <td>0</td>\n",
              "      <td>0</td>\n",
              "      <td>0</td>\n",
              "      <td>0</td>\n",
              "      <td>0</td>\n",
              "      <td>0</td>\n",
              "      <td>0</td>\n",
              "      <td>0</td>\n",
              "      <td>0</td>\n",
              "    </tr>\n",
              "    <tr>\n",
              "      <th>...</th>\n",
              "      <td>...</td>\n",
              "      <td>...</td>\n",
              "      <td>...</td>\n",
              "      <td>...</td>\n",
              "      <td>...</td>\n",
              "      <td>...</td>\n",
              "      <td>...</td>\n",
              "      <td>...</td>\n",
              "      <td>...</td>\n",
              "      <td>...</td>\n",
              "      <td>...</td>\n",
              "      <td>...</td>\n",
              "      <td>...</td>\n",
              "      <td>...</td>\n",
              "      <td>...</td>\n",
              "      <td>...</td>\n",
              "      <td>...</td>\n",
              "      <td>...</td>\n",
              "      <td>...</td>\n",
              "      <td>...</td>\n",
              "      <td>...</td>\n",
              "    </tr>\n",
              "    <tr>\n",
              "      <th>274469</th>\n",
              "      <td>Bloodmoon (1997)</td>\n",
              "      <td>0</td>\n",
              "      <td>1</td>\n",
              "      <td>0</td>\n",
              "      <td>0</td>\n",
              "      <td>0</td>\n",
              "      <td>0</td>\n",
              "      <td>0</td>\n",
              "      <td>0</td>\n",
              "      <td>0</td>\n",
              "      <td>0</td>\n",
              "      <td>0</td>\n",
              "      <td>0</td>\n",
              "      <td>0</td>\n",
              "      <td>0</td>\n",
              "      <td>0</td>\n",
              "      <td>0</td>\n",
              "      <td>0</td>\n",
              "      <td>0</td>\n",
              "      <td>0</td>\n",
              "      <td>0</td>\n",
              "    </tr>\n",
              "    <tr>\n",
              "      <th>274471</th>\n",
              "      <td>Sympathy for the Underdog (1971)</td>\n",
              "      <td>0</td>\n",
              "      <td>1</td>\n",
              "      <td>0</td>\n",
              "      <td>0</td>\n",
              "      <td>0</td>\n",
              "      <td>0</td>\n",
              "      <td>0</td>\n",
              "      <td>0</td>\n",
              "      <td>0</td>\n",
              "      <td>0</td>\n",
              "      <td>0</td>\n",
              "      <td>0</td>\n",
              "      <td>0</td>\n",
              "      <td>0</td>\n",
              "      <td>0</td>\n",
              "      <td>0</td>\n",
              "      <td>0</td>\n",
              "      <td>0</td>\n",
              "      <td>0</td>\n",
              "      <td>0</td>\n",
              "    </tr>\n",
              "    <tr>\n",
              "      <th>274474</th>\n",
              "      <td>Hazard (2005)</td>\n",
              "      <td>0</td>\n",
              "      <td>1</td>\n",
              "      <td>0</td>\n",
              "      <td>0</td>\n",
              "      <td>0</td>\n",
              "      <td>0</td>\n",
              "      <td>0</td>\n",
              "      <td>0</td>\n",
              "      <td>0</td>\n",
              "      <td>0</td>\n",
              "      <td>0</td>\n",
              "      <td>0</td>\n",
              "      <td>0</td>\n",
              "      <td>0</td>\n",
              "      <td>0</td>\n",
              "      <td>0</td>\n",
              "      <td>0</td>\n",
              "      <td>0</td>\n",
              "      <td>0</td>\n",
              "      <td>0</td>\n",
              "    </tr>\n",
              "    <tr>\n",
              "      <th>274477</th>\n",
              "      <td>Blair Witch (2016)</td>\n",
              "      <td>0</td>\n",
              "      <td>0</td>\n",
              "      <td>0</td>\n",
              "      <td>0</td>\n",
              "      <td>0</td>\n",
              "      <td>0</td>\n",
              "      <td>0</td>\n",
              "      <td>0</td>\n",
              "      <td>0</td>\n",
              "      <td>0</td>\n",
              "      <td>0</td>\n",
              "      <td>1</td>\n",
              "      <td>0</td>\n",
              "      <td>0</td>\n",
              "      <td>0</td>\n",
              "      <td>0</td>\n",
              "      <td>0</td>\n",
              "      <td>0</td>\n",
              "      <td>0</td>\n",
              "      <td>0</td>\n",
              "    </tr>\n",
              "    <tr>\n",
              "      <th>274479</th>\n",
              "      <td>31 (2016)</td>\n",
              "      <td>0</td>\n",
              "      <td>0</td>\n",
              "      <td>0</td>\n",
              "      <td>0</td>\n",
              "      <td>0</td>\n",
              "      <td>0</td>\n",
              "      <td>0</td>\n",
              "      <td>0</td>\n",
              "      <td>0</td>\n",
              "      <td>0</td>\n",
              "      <td>0</td>\n",
              "      <td>1</td>\n",
              "      <td>0</td>\n",
              "      <td>0</td>\n",
              "      <td>0</td>\n",
              "      <td>0</td>\n",
              "      <td>0</td>\n",
              "      <td>0</td>\n",
              "      <td>0</td>\n",
              "      <td>0</td>\n",
              "    </tr>\n",
              "  </tbody>\n",
              "</table>\n",
              "<p>9719 rows × 21 columns</p>\n",
              "</div>"
            ],
            "text/plain": [
              "                                   title  (no genres listed)  ...  War  Western\n",
              "0                       Toy Story (1995)                   0  ...    0        0\n",
              "1075             Grumpier Old Men (1995)                   0  ...    0        0\n",
              "1179                         Heat (1995)                   0  ...    0        0\n",
              "1485         Seven (a.k.a. Se7en) (1995)                   0  ...    0        0\n",
              "1891          Usual Suspects, The (1995)                   0  ...    0        0\n",
              "...                                  ...                 ...  ...  ...      ...\n",
              "274469                  Bloodmoon (1997)                   0  ...    0        0\n",
              "274471  Sympathy for the Underdog (1971)                   0  ...    0        0\n",
              "274474                     Hazard (2005)                   0  ...    0        0\n",
              "274477                Blair Witch (2016)                   0  ...    0        0\n",
              "274479                         31 (2016)                   0  ...    0        0\n",
              "\n",
              "[9719 rows x 21 columns]"
            ]
          },
          "metadata": {
            "tags": []
          },
          "execution_count": 64
        }
      ]
    },
    {
      "cell_type": "markdown",
      "metadata": {
        "id": "LqgZGwQ97Da1"
      },
      "source": [
        "###### final_table: merging movie df with table_dummies df"
      ]
    },
    {
      "cell_type": "code",
      "metadata": {
        "id": "UaR5qBbrD9p8"
      },
      "source": [
        "final_table = pd.merge(movie2, table_dummies, on='title')"
      ],
      "execution_count": null,
      "outputs": []
    },
    {
      "cell_type": "code",
      "metadata": {
        "id": "uMasUm1MEQVS"
      },
      "source": [
        "final_table.drop('genres', axis=1, inplace=True)"
      ],
      "execution_count": null,
      "outputs": []
    },
    {
      "cell_type": "code",
      "metadata": {
        "id": "1CrEuDkoEgsL",
        "colab": {
          "base_uri": "https://localhost:8080/"
        },
        "outputId": "2b0cb082-047a-498c-bff0-a9dd962a5861"
      },
      "source": [
        "final_table.head()"
      ],
      "execution_count": null,
      "outputs": [
        {
          "output_type": "execute_result",
          "data": {
            "text/html": [
              "<div>\n",
              "<style scoped>\n",
              "    .dataframe tbody tr th:only-of-type {\n",
              "        vertical-align: middle;\n",
              "    }\n",
              "\n",
              "    .dataframe tbody tr th {\n",
              "        vertical-align: top;\n",
              "    }\n",
              "\n",
              "    .dataframe thead th {\n",
              "        text-align: right;\n",
              "    }\n",
              "</style>\n",
              "<table border=\"1\" class=\"dataframe\">\n",
              "  <thead>\n",
              "    <tr style=\"text-align: right;\">\n",
              "      <th></th>\n",
              "      <th>movieId</th>\n",
              "      <th>title</th>\n",
              "      <th>rating</th>\n",
              "      <th>(no genres listed)</th>\n",
              "      <th>Action</th>\n",
              "      <th>Adventure</th>\n",
              "      <th>Animation</th>\n",
              "      <th>Children</th>\n",
              "      <th>Comedy</th>\n",
              "      <th>Crime</th>\n",
              "      <th>Documentary</th>\n",
              "      <th>Drama</th>\n",
              "      <th>Fantasy</th>\n",
              "      <th>Film-Noir</th>\n",
              "      <th>Horror</th>\n",
              "      <th>IMAX</th>\n",
              "      <th>Musical</th>\n",
              "      <th>Mystery</th>\n",
              "      <th>Romance</th>\n",
              "      <th>Sci-Fi</th>\n",
              "      <th>Thriller</th>\n",
              "      <th>War</th>\n",
              "      <th>Western</th>\n",
              "    </tr>\n",
              "  </thead>\n",
              "  <tbody>\n",
              "    <tr>\n",
              "      <th>0</th>\n",
              "      <td>1</td>\n",
              "      <td>Toy Story (1995)</td>\n",
              "      <td>3.92</td>\n",
              "      <td>0</td>\n",
              "      <td>0</td>\n",
              "      <td>1</td>\n",
              "      <td>0</td>\n",
              "      <td>0</td>\n",
              "      <td>0</td>\n",
              "      <td>0</td>\n",
              "      <td>0</td>\n",
              "      <td>0</td>\n",
              "      <td>0</td>\n",
              "      <td>0</td>\n",
              "      <td>0</td>\n",
              "      <td>0</td>\n",
              "      <td>0</td>\n",
              "      <td>0</td>\n",
              "      <td>0</td>\n",
              "      <td>0</td>\n",
              "      <td>0</td>\n",
              "      <td>0</td>\n",
              "      <td>0</td>\n",
              "    </tr>\n",
              "    <tr>\n",
              "      <th>1</th>\n",
              "      <td>2</td>\n",
              "      <td>Jumanji (1995)</td>\n",
              "      <td>3.43</td>\n",
              "      <td>0</td>\n",
              "      <td>0</td>\n",
              "      <td>1</td>\n",
              "      <td>0</td>\n",
              "      <td>0</td>\n",
              "      <td>0</td>\n",
              "      <td>0</td>\n",
              "      <td>0</td>\n",
              "      <td>0</td>\n",
              "      <td>0</td>\n",
              "      <td>0</td>\n",
              "      <td>0</td>\n",
              "      <td>0</td>\n",
              "      <td>0</td>\n",
              "      <td>0</td>\n",
              "      <td>0</td>\n",
              "      <td>0</td>\n",
              "      <td>0</td>\n",
              "      <td>0</td>\n",
              "      <td>0</td>\n",
              "    </tr>\n",
              "    <tr>\n",
              "      <th>2</th>\n",
              "      <td>3</td>\n",
              "      <td>Grumpier Old Men (1995)</td>\n",
              "      <td>3.26</td>\n",
              "      <td>0</td>\n",
              "      <td>0</td>\n",
              "      <td>0</td>\n",
              "      <td>0</td>\n",
              "      <td>0</td>\n",
              "      <td>1</td>\n",
              "      <td>0</td>\n",
              "      <td>0</td>\n",
              "      <td>0</td>\n",
              "      <td>0</td>\n",
              "      <td>0</td>\n",
              "      <td>0</td>\n",
              "      <td>0</td>\n",
              "      <td>0</td>\n",
              "      <td>0</td>\n",
              "      <td>0</td>\n",
              "      <td>0</td>\n",
              "      <td>0</td>\n",
              "      <td>0</td>\n",
              "      <td>0</td>\n",
              "    </tr>\n",
              "    <tr>\n",
              "      <th>3</th>\n",
              "      <td>4</td>\n",
              "      <td>Waiting to Exhale (1995)</td>\n",
              "      <td>2.36</td>\n",
              "      <td>0</td>\n",
              "      <td>0</td>\n",
              "      <td>0</td>\n",
              "      <td>0</td>\n",
              "      <td>0</td>\n",
              "      <td>1</td>\n",
              "      <td>0</td>\n",
              "      <td>0</td>\n",
              "      <td>0</td>\n",
              "      <td>0</td>\n",
              "      <td>0</td>\n",
              "      <td>0</td>\n",
              "      <td>0</td>\n",
              "      <td>0</td>\n",
              "      <td>0</td>\n",
              "      <td>0</td>\n",
              "      <td>0</td>\n",
              "      <td>0</td>\n",
              "      <td>0</td>\n",
              "      <td>0</td>\n",
              "    </tr>\n",
              "    <tr>\n",
              "      <th>4</th>\n",
              "      <td>5</td>\n",
              "      <td>Father of the Bride Part II (1995)</td>\n",
              "      <td>3.07</td>\n",
              "      <td>0</td>\n",
              "      <td>0</td>\n",
              "      <td>0</td>\n",
              "      <td>0</td>\n",
              "      <td>0</td>\n",
              "      <td>1</td>\n",
              "      <td>0</td>\n",
              "      <td>0</td>\n",
              "      <td>0</td>\n",
              "      <td>0</td>\n",
              "      <td>0</td>\n",
              "      <td>0</td>\n",
              "      <td>0</td>\n",
              "      <td>0</td>\n",
              "      <td>0</td>\n",
              "      <td>0</td>\n",
              "      <td>0</td>\n",
              "      <td>0</td>\n",
              "      <td>0</td>\n",
              "      <td>0</td>\n",
              "    </tr>\n",
              "  </tbody>\n",
              "</table>\n",
              "</div>"
            ],
            "text/plain": [
              "   movieId                               title  rating  ...  Thriller  War  Western\n",
              "0        1                    Toy Story (1995)    3.92  ...         0    0        0\n",
              "1        2                      Jumanji (1995)    3.43  ...         0    0        0\n",
              "2        3             Grumpier Old Men (1995)    3.26  ...         0    0        0\n",
              "3        4            Waiting to Exhale (1995)    2.36  ...         0    0        0\n",
              "4        5  Father of the Bride Part II (1995)    3.07  ...         0    0        0\n",
              "\n",
              "[5 rows x 23 columns]"
            ]
          },
          "metadata": {
            "tags": []
          },
          "execution_count": 67
        }
      ]
    },
    {
      "cell_type": "markdown",
      "metadata": {
        "id": "d1KACk345uOV"
      },
      "source": [
        "# TESTS: (Not used) Normalizing values"
      ]
    },
    {
      "cell_type": "code",
      "metadata": {
        "id": "llIx3wquERFm"
      },
      "source": [
        "# Normalize values\n",
        "from sklearn.preprocessing import MinMaxScaler\n",
        "\n",
        "normalized_table = final_table.copy()\n",
        "\n",
        "features = ['rating', 'timestamp',\\\n",
        "            '(no genres listed)', 'Action', 'Adventure', 'Animation', 'Children',\\\n",
        "            'Comedy', 'Crime', 'Documentary', 'Drama', 'Fantasy', 'Film-Noir',\\\n",
        "            'Horror', 'IMAX', 'Musical', 'Mystery', 'Romance', 'Sci-Fi', 'Thriller',\\\n",
        "            'War', 'Western']\n",
        "\n",
        "sc_X = MinMaxScaler()\n",
        "normalized_table[features] = sc_X.fit_transform(normalized_table[features])\n",
        "\n",
        "normalized_table.head()"
      ],
      "execution_count": null,
      "outputs": []
    },
    {
      "cell_type": "markdown",
      "metadata": {
        "id": "VVVGcESi5yTR"
      },
      "source": [
        "# TESTS: (Not used) Building a model"
      ]
    },
    {
      "cell_type": "code",
      "metadata": {
        "id": "xh-EDRDAIpkV"
      },
      "source": [
        "from sklearn.neighbors import KNeighborsClassifier\n",
        "\n",
        "X = normalized_table[['rating', 'timestamp',\\\n",
        "            '(no genres listed)', 'Action', 'Adventure', 'Animation', 'Children',\\\n",
        "            'Comedy', 'Crime', 'Documentary', 'Drama', 'Fantasy', 'Film-Noir',\\\n",
        "            'Horror', 'IMAX', 'Musical', 'Mystery', 'Romance', 'Sci-Fi', 'Thriller',\\\n",
        "            'War', 'Western']]\n",
        "y = normalized_table['title']\n",
        "\n",
        "\n",
        "our_model = KNeighborsClassifier(n_neighbors=5)\n",
        "our_model.fit(X, y)"
      ],
      "execution_count": null,
      "outputs": []
    },
    {
      "cell_type": "code",
      "metadata": {
        "id": "nEpZObh_LtiQ"
      },
      "source": [
        "movies.loc[movies['title'] == \"Forrest Gump (1994)\"].values.flatten().tolist()"
      ],
      "execution_count": null,
      "outputs": []
    },
    {
      "cell_type": "code",
      "metadata": {
        "id": "oQlkyqWrJmBY"
      },
      "source": [
        "normalized_table.loc[normalized_table['title'] == \"Forrest Gump (1994)\"].values.flatten().tolist()"
      ],
      "execution_count": null,
      "outputs": []
    },
    {
      "cell_type": "markdown",
      "metadata": {
        "id": "HBmP0oZM5L6t"
      },
      "source": [
        "# TESTS: (Not used) just experimenting, trying to create codes for the genres."
      ]
    },
    {
      "cell_type": "code",
      "metadata": {
        "id": "0ltirYLW2sAt"
      },
      "source": [
        "experiment = movie2.copy()"
      ],
      "execution_count": null,
      "outputs": []
    },
    {
      "cell_type": "code",
      "metadata": {
        "id": "Ed5xYeh-AFfj"
      },
      "source": [
        "experiment['genres'] = experiment['genres'].astype('category')\n",
        "experiment['genres_code'] = experiment['genres'].cat.codes"
      ],
      "execution_count": null,
      "outputs": []
    },
    {
      "cell_type": "code",
      "metadata": {
        "id": "Q0U8cOdLAOcB"
      },
      "source": [
        "experiment.loc[experiment['genres'] == 'Fantasy']"
      ],
      "execution_count": null,
      "outputs": []
    },
    {
      "cell_type": "code",
      "metadata": {
        "id": "PqKxWMs93shL"
      },
      "source": [
        "experiment.head(15)"
      ],
      "execution_count": null,
      "outputs": []
    },
    {
      "cell_type": "code",
      "metadata": {
        "id": "_pDy0oTbMxBz"
      },
      "source": [
        "experiment = experiment.dropna()"
      ],
      "execution_count": null,
      "outputs": []
    },
    {
      "cell_type": "code",
      "metadata": {
        "id": "x0_K5wMxTf5E"
      },
      "source": [
        "# Normalize values\n",
        "from sklearn.preprocessing import MinMaxScaler\n",
        "\n",
        "normalized_exp = experiment.copy()\n",
        "\n",
        "features = ['rating', 'timestamp','genres_code']\n",
        "\n",
        "sc_X = MinMaxScaler()\n",
        "normalized_exp[features] = sc_X.fit_transform(normalized_exp[features])\n",
        "\n",
        "normalized_exp.head()"
      ],
      "execution_count": null,
      "outputs": []
    },
    {
      "cell_type": "code",
      "metadata": {
        "id": "PdC4vnwwMjux"
      },
      "source": [
        "from sklearn.neighbors import KNeighborsClassifier\n",
        "from sklearn.neighbors import NearestNeighbors\n",
        "\n",
        "X = normalized_exp[['rating', 'timestamp','genres_code']]\n",
        "y = normalized_exp['title']\n",
        "\n",
        "\n",
        "our_model = NearestNeighbors(n_neighbors=5)\n",
        "our_model.fit(X, y)"
      ],
      "execution_count": null,
      "outputs": []
    },
    {
      "cell_type": "code",
      "metadata": {
        "id": "KxxC7mfrNAt6"
      },
      "source": [
        "experiment.loc[experiment['title'] == \"Forrest Gump (1994)\"].values.flatten().tolist()"
      ],
      "execution_count": null,
      "outputs": []
    },
    {
      "cell_type": "code",
      "metadata": {
        "id": "cI13qRIHNNgB"
      },
      "source": [
        "gump = normalized_exp.loc[normalized_exp['title'] == 'Forrest Gump (1994)'][['rating', 'timestamp','genres_code']]\n",
        "our_model.predict(gump)"
      ],
      "execution_count": null,
      "outputs": []
    },
    {
      "cell_type": "markdown",
      "metadata": {
        "id": "RTkrH1Fz8gxf"
      },
      "source": [
        "# TESTS: (Not used) m df: experiments"
      ]
    },
    {
      "cell_type": "code",
      "metadata": {
        "id": "3lv0rI3DO1sC"
      },
      "source": [
        "m = pd.merge(movie2, table_dummies, on='title')\n",
        "m.drop('genres', axis=1, inplace=True)\n",
        "m.head()"
      ],
      "execution_count": null,
      "outputs": []
    },
    {
      "cell_type": "code",
      "metadata": {
        "id": "dnYr5QlGF3rn"
      },
      "source": [
        "m.dtypes"
      ],
      "execution_count": null,
      "outputs": []
    },
    {
      "cell_type": "code",
      "metadata": {
        "id": "07ZLiNrMRJBt"
      },
      "source": [
        "m=m.dropna()"
      ],
      "execution_count": null,
      "outputs": []
    },
    {
      "cell_type": "markdown",
      "metadata": {
        "id": "ePkTpbtb8tPg"
      },
      "source": [
        "###### building a model (that isn't working)"
      ]
    },
    {
      "cell_type": "code",
      "metadata": {
        "id": "plUtTZPMPTxM"
      },
      "source": [
        "\"\"\"\n",
        "from sklearn.neighbors import KNeighborsClassifier\n",
        "\n",
        "X = m[['rating','(no genres listed)', 'Action', 'Adventure', 'Animation', 'Children',\\\n",
        "            'Comedy', 'Crime', 'Documentary', 'Drama', 'Fantasy', 'Film-Noir',\\\n",
        "            'Horror', 'IMAX', 'Musical', 'Mystery', 'Romance', 'Sci-Fi', 'Thriller',\\\n",
        "            'War', 'Western']]\n",
        "y = m['movieId']\n",
        "\n",
        "\n",
        "our_model = KNeighborsClassifier(n_neighbors=5)\n",
        "our_model.fit(X, y)\n",
        "\n",
        "\"\"\""
      ],
      "execution_count": null,
      "outputs": []
    },
    {
      "cell_type": "code",
      "metadata": {
        "id": "ZPlFpbC8Rghb"
      },
      "source": [
        "\"\"\" \n",
        "ng = m.loc[m['title'] == 'No Game No Life: Zero'][['rating','(no genres listed)', 'Action', 'Adventure', 'Animation', 'Children',\\\n",
        "            'Comedy', 'Crime', 'Documentary', 'Drama', 'Fantasy', 'Film-Noir',\\\n",
        "            'Horror', 'IMAX', 'Musical', 'Mystery', 'Romance', 'Sci-Fi', 'Thriller',\\\n",
        "            'War', 'Western']]\n",
        "b = our_model.predict(ng)\n",
        "\n",
        "m.loc[b]\n",
        "\n",
        "\"\"\""
      ],
      "execution_count": null,
      "outputs": []
    },
    {
      "cell_type": "markdown",
      "metadata": {
        "id": "3z8vZEhYpJfQ"
      },
      "source": [
        "# TESTS: (Not used) Importing big data"
      ]
    },
    {
      "cell_type": "code",
      "metadata": {
        "id": "SnVxpiUNpL4y"
      },
      "source": [
        "'''\n",
        "# importing big movies\n",
        "downloaded = drive.CreateFile({'id':'1B_7ceWzskH85IpS42JjR2yEbZ56eKjbX'}) # replace the id with id of file you want to access\n",
        "downloaded.GetContentFile('movies_big.csv')\n",
        "bmovie = pd.read_csv('movies_big.csv', sep=',')\n",
        "# importing big ratings\n",
        "downloaded = drive.CreateFile({'id':'1x2cchWwYGPtFSA5h9TTDlBIuI0P_hhnr'}) # replace the id with id of file you want to access\n",
        "downloaded.GetContentFile('ratings_big.csv')\n",
        "brating = pd.read_csv('ratings_big.csv', sep=',')\n",
        "# importing big tags\n",
        "downloaded = drive.CreateFile({'id':'11182zFscDQREauAv1jJAPSsufPK-7qJi'}) # replace the id with id of file you want to access\n",
        "downloaded.GetContentFile('tags_big.csv')\n",
        "btags = pd.read_csv('tags_big.csv', sep=',')\n",
        "# importing big genome tags\n",
        "downloaded = drive.CreateFile({'id':'1fgUSibLLX-9iulH2gPnzj5Qsmy5UKk7Y'}) # replace the id with id of file you want to access\n",
        "downloaded.GetContentFile('genome-tags_big.csv')\n",
        "bgenotag = pd.read_csv('genome-tags_big.csv', sep=',')\n",
        "# importing big genome scores\n",
        "downloaded = drive.CreateFile({'id':'16au1yEUUX4D_CDsmcLJTiSy9la9opoUZ'}) # replace the id with id of file you want to access\n",
        "downloaded.GetContentFile('genome-scores_big.csv')\n",
        "bgenosco = pd.read_csv('genome-scores_big.csv', sep=',')\n",
        "'''"
      ],
      "execution_count": null,
      "outputs": []
    },
    {
      "cell_type": "code",
      "metadata": {
        "id": "BGV7gJPuHs0h"
      },
      "source": [
        ""
      ],
      "execution_count": null,
      "outputs": []
    },
    {
      "cell_type": "markdown",
      "metadata": {
        "id": "zlwocMzeHvg-"
      },
      "source": [
        "#TESTS: DataFrame conditions"
      ]
    },
    {
      "cell_type": "markdown",
      "metadata": {
        "id": "FHhBb5rBjFZT"
      },
      "source": [
        "Here we show different ways to find films that meet multiple conditions in the DataFrame."
      ]
    },
    {
      "cell_type": "code",
      "metadata": {
        "id": "4SVqQj6DH4x5"
      },
      "source": [
        "movie3.groupby('genres').mean().sort_values('rating', ascending=False).head(30)\n"
      ],
      "execution_count": null,
      "outputs": []
    },
    {
      "cell_type": "code",
      "metadata": {
        "id": "VhSmthOkindV"
      },
      "source": [
        "movie3.groupby(movie3['genres'].str.contains('crime', case=False)).mean().sort_values('rating', ascending=False).head(30)"
      ],
      "execution_count": null,
      "outputs": []
    },
    {
      "cell_type": "code",
      "metadata": {
        "id": "PScYtc8Giqb4"
      },
      "source": [
        "movie3[movie3['genres'].str.contains('crime', case=False)].sort_values('rating', ascending=False).head(30)"
      ],
      "execution_count": null,
      "outputs": []
    },
    {
      "cell_type": "code",
      "metadata": {
        "id": "72ck_UwxJD68"
      },
      "source": [
        "movie3.groupby('genres').mean().sort_values('rating', ascending=False).head(30)\n"
      ],
      "execution_count": null,
      "outputs": []
    },
    {
      "cell_type": "code",
      "metadata": {
        "id": "CUOP1WXziuSA"
      },
      "source": [
        "movie3.groupby(movie3['genres'].str.contains('crime', case=False)).mean().sort_values('rating', ascending=False).head(30)\n"
      ],
      "execution_count": null,
      "outputs": []
    },
    {
      "cell_type": "code",
      "metadata": {
        "id": "afPuCcT-iuo7"
      },
      "source": [
        "movie3[movie3['genres'].str.contains('crime', case=False)].sort_values('rating', ascending=False).head(30)"
      ],
      "execution_count": null,
      "outputs": []
    },
    {
      "cell_type": "code",
      "metadata": {
        "id": "gr562ESEJGI5"
      },
      "source": [
        "movie3[movie3['genres'].str.contains('crime', case=False)].sort_values('rating')[['title', 'year']][0:1] #this is like WHERE but it shows the DataFrame where a certain column has a condition\n",
        "\n",
        "#shows the lowest-rated movie that contains crime"
      ],
      "execution_count": null,
      "outputs": []
    },
    {
      "cell_type": "code",
      "metadata": {
        "id": "IkW6BGYOJIlu"
      },
      "source": [
        "movie3[movie3['genres'].str.contains('crime', case=False)].sort_values('rating', ascending=False)[['title', 'year']][0:1] #this is like where but it shows the DataFrame where a certain column has a condition\n",
        "\n",
        "#shows the top-rated movie that contains crime "
      ],
      "execution_count": null,
      "outputs": []
    },
    {
      "cell_type": "code",
      "metadata": {
        "id": "cNFpbPonJKxc"
      },
      "source": [
        "movie3[(movie3['genres'].str.contains('crime', case=False)) & (movie3['rating'] > 3)] #two conditions"
      ],
      "execution_count": null,
      "outputs": []
    },
    {
      "cell_type": "code",
      "metadata": {
        "id": "m854vRUrJNOJ"
      },
      "source": [
        "movie3[(movie3['genres'].str.contains('crime', case=False)) | (movie3['rating'] > 3)] #two conditions. | is OR. #this is why we have many more results. "
      ],
      "execution_count": null,
      "outputs": []
    },
    {
      "cell_type": "markdown",
      "metadata": {
        "id": "cgR6q4U2fwhI"
      },
      "source": [
        "# Important resources"
      ]
    },
    {
      "cell_type": "markdown",
      "metadata": {
        "id": "DpsW729qf7RW"
      },
      "source": [
        "### https://medium.com/learning-machine-learning/recommending-animes-using-nearest-neighbors-61320a1a5934"
      ]
    },
    {
      "cell_type": "markdown",
      "metadata": {
        "id": "z_4eu8Fwf3CL"
      },
      "source": [
        "### https://stackabuse.com/creating-a-simple-recommender-system-in-python-using-pandas/"
      ]
    }
  ]
}